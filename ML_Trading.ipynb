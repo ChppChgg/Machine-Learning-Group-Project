{
 "cells": [
  {
   "cell_type": "markdown",
   "id": "a7180c7c",
   "metadata": {},
   "source": [
    "# UFCFAS-15-2 - Machine learning Group Project"
   ]
  },
  {
   "cell_type": "markdown",
   "id": "9f04754e",
   "metadata": {},
   "source": [
    "## Machine Learning Stock Trading Tool\n",
    "\n",
    "#### Sam Waxman\n",
    "#### Temi Adeolu-Salako\n",
    "#### Matt Nogodula"
   ]
  },
  {
   "cell_type": "markdown",
   "id": "1be0d6dd",
   "metadata": {},
   "source": [
    "## Intro & Objectives"
   ]
  },
  {
   "cell_type": "markdown",
   "id": "7c0f3ea2",
   "metadata": {},
   "source": [
    "## Preparing Environment"
   ]
  },
  {
   "cell_type": "markdown",
   "id": "b6ef5136",
   "metadata": {},
   "source": [
    "## Data Acquisition & Stock Parameters"
   ]
  },
  {
   "cell_type": "markdown",
   "id": "9a01201c",
   "metadata": {},
   "source": [
    "## Feature Engineering & Indicators"
   ]
  },
  {
   "cell_type": "markdown",
   "id": "031090aa",
   "metadata": {},
   "source": [
    "## Prediction & Buy/Sell Signals"
   ]
  },
  {
   "cell_type": "markdown",
   "id": "4a66b5c3",
   "metadata": {},
   "source": [
    "## Market-Regime & Risk Filters"
   ]
  },
  {
   "cell_type": "markdown",
   "id": "4496a590",
   "metadata": {},
   "source": [
    "## Model Performance"
   ]
  },
  {
   "cell_type": "markdown",
   "id": "a2eda027",
   "metadata": {},
   "source": [
    "## Backtesting"
   ]
  },
  {
   "cell_type": "markdown",
   "id": "a6c005f0",
   "metadata": {},
   "source": [
    "## Perfomance Visualisations"
   ]
  },
  {
   "cell_type": "markdown",
   "id": "25898402",
   "metadata": {},
   "source": [
    "## Benchmark Comparisons"
   ]
  },
  {
   "cell_type": "markdown",
   "id": "28976921",
   "metadata": {},
   "source": [
    "## Conclusion"
   ]
  }
 ],
 "metadata": {
  "language_info": {
   "name": "python"
  }
 },
 "nbformat": 4,
 "nbformat_minor": 5
}
