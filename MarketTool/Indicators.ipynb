{
 "cells": [
  {
   "cell_type": "markdown",
   "id": "fef4f2c2",
   "metadata": {},
   "source": [
    "# Technical Indicatiors Analysis (RSI)"
   ]
  },
  {
   "cell_type": "markdown",
   "id": "27ce41b0",
   "metadata": {},
   "source": [
    "Aight this uses RSI to find overbought or oversold price action as well as MACD and Moving averages to detect movent and volatility.\n",
    "If RSI drops belo 30 or when MACD crosses above signal line, uses random forest to decide \"Hold, Buy, Sell\" position\n",
    "Then uses backtesting to see how the performance of model and strategy performs overtime. \n"
   ]
  },
  {
   "cell_type": "markdown",
   "id": "7d1a9832",
   "metadata": {},
   "source": [
    "## Libraries\n"
   ]
  },
  {
   "cell_type": "code",
   "execution_count": 56,
   "id": "fb6f07a1",
   "metadata": {},
   "outputs": [],
   "source": [
    "# Import libraries\n",
    "import yfinance as yf\n",
    "import pandas as pd\n",
    "import pandas_ta as ta\n",
    "import numpy as np\n",
    "import matplotlib.pyplot as plt\n",
    "import plotly.graph_objects as go\n",
    "from plotly.subplots import make_subplots\n",
    "from sklearn.model_selection import train_test_split\n",
    "from sklearn.ensemble import RandomForestClassifier\n",
    "from sklearn.metrics import classification_report, confusion_matrix\n",
    "import seaborn as sns"
   ]
  },
  {
   "cell_type": "markdown",
   "id": "176af3e9",
   "metadata": {},
   "source": [
    "## Fetching Data\n"
   ]
  },
  {
   "cell_type": "code",
   "execution_count": null,
   "id": "1785fa02",
   "metadata": {},
   "outputs": [
    {
     "name": "stdout",
     "output_type": "stream",
     "text": [
      "Downloaded 251 rows of data for NVDA\n",
      "\n",
      "First 5 rows:\n",
      "                                Open       High        Low      Close  \\\n",
      "Date                                                                    \n",
      "2024-04-11 00:00:00-04:00  87.391286  90.709196  86.897452  90.586235   \n",
      "2024-04-12 00:00:00-04:00  89.669539  90.145389  87.501253  88.157036   \n",
      "2024-04-15 00:00:00-04:00  89.068723  90.583224  85.900765  85.972740   \n",
      "2024-04-16 00:00:00-04:00  86.404604  88.089048  86.035730  87.386284   \n",
      "2024-04-17 00:00:00-04:00  88.310971  88.745833  83.922414  84.007393   \n",
      "\n",
      "                              Volume  Dividends  Stock Splits  \n",
      "Date                                                           \n",
      "2024-04-11 00:00:00-04:00  431637000        0.0           0.0  \n",
      "2024-04-12 00:00:00-04:00  426805000        0.0           0.0  \n",
      "2024-04-15 00:00:00-04:00  443077000        0.0           0.0  \n",
      "2024-04-16 00:00:00-04:00  370453000        0.0           0.0  \n",
      "2024-04-17 00:00:00-04:00  495400000        0.0           0.0  \n",
      "\n",
      "Last 5 rows:\n",
      "                                 Open        High        Low       Close  \\\n",
      "Date                                                                       \n",
      "2025-04-04 00:00:00-04:00   98.910004  100.129997  92.110001   94.309998   \n",
      "2025-04-07 00:00:00-04:00   87.459999  101.750000  86.620003   97.639999   \n",
      "2025-04-08 00:00:00-04:00  103.809998  105.849998  94.459999   96.300003   \n",
      "2025-04-09 00:00:00-04:00   98.889999  115.099998  97.529999  114.330002   \n",
      "2025-04-10 00:00:00-04:00  109.370003  110.860001  99.150002  107.570000   \n",
      "\n",
      "                              Volume  Dividends  Stock Splits  \n",
      "Date                                                           \n",
      "2025-04-04 00:00:00-04:00  532273800        0.0           0.0  \n",
      "2025-04-07 00:00:00-04:00  611041300        0.0           0.0  \n",
      "2025-04-08 00:00:00-04:00  476243400        0.0           0.0  \n",
      "2025-04-09 00:00:00-04:00  612918300        0.0           0.0  \n",
      "2025-04-10 00:00:00-04:00  435765200        0.0           0.0  \n",
      "\n",
      "Data Overview:\n",
      "<class 'pandas.core.frame.DataFrame'>\n",
      "DatetimeIndex: 251 entries, 2024-04-11 00:00:00-04:00 to 2025-04-10 00:00:00-04:00\n",
      "Data columns (total 7 columns):\n",
      " #   Column        Non-Null Count  Dtype  \n",
      "---  ------        --------------  -----  \n",
      " 0   Open          251 non-null    float64\n",
      " 1   High          251 non-null    float64\n",
      " 2   Low           251 non-null    float64\n",
      " 3   Close         251 non-null    float64\n",
      " 4   Volume        251 non-null    int64  \n",
      " 5   Dividends     251 non-null    float64\n",
      " 6   Stock Splits  251 non-null    float64\n",
      "dtypes: float64(6), int64(1)\n",
      "memory usage: 15.7 KB\n",
      "None\n",
      "\n",
      "Summary Statistics:\n",
      "             Open        High         Low       Close        Volume  \\\n",
      "count  251.000000  251.000000  251.000000  251.000000  2.510000e+02   \n",
      "mean   121.599180  123.950505  118.798888  121.435613  3.154768e+08   \n",
      "std     17.384641   17.173424   17.207732   17.146163  1.284917e+08   \n",
      "min     78.078338   80.046693   75.581166   76.174965  1.051570e+08   \n",
      "25%    112.447663  115.396723  109.348488  111.907413  2.225826e+08   \n",
      "50%    123.088674  125.019886  119.998968  123.509560  2.896800e+08   \n",
      "75%    136.357760  138.457265  133.002768  135.167572  3.802377e+08   \n",
      "max    153.015919  153.115916  147.806407  149.416245  8.751980e+08   \n",
      "\n",
      "        Dividends  Stock Splits  \n",
      "count  251.000000    251.000000  \n",
      "mean     0.000159      0.039841  \n",
      "std      0.001255      0.631194  \n",
      "min      0.000000      0.000000  \n",
      "25%      0.000000      0.000000  \n",
      "50%      0.000000      0.000000  \n",
      "75%      0.000000      0.000000  \n",
      "max      0.010000     10.000000  \n"
     ]
    }
   ],
   "source": [
    "# Define stock ticker and time period\n",
    "ticker = \"NVDA\"  # Can be changed to any stock ticker\n",
    "period = \"5y\"   # Can also be changed to \"5\", \"1y\", \"6mo\", \"3mo\", etc.\n",
    "\n",
    "# Fetch data\n",
    "data = yf.Ticker(ticker).history(period=period)\n",
    "print(f\"Downloaded {len(data)} rows of data for {ticker}\")\n",
    "print(\"\\nFirst 5 rows:\")\n",
    "print(data.head())\n",
    "print(\"\\nLast 5 rows:\")\n",
    "print(data.tail())\n",
    "\n",
    "# Basic info about the data\n",
    "print(\"\\nData Overview:\")\n",
    "print(data.info())\n",
    "print(\"\\nSummary Statistics:\")\n",
    "print(data.describe())"
   ]
  },
  {
   "cell_type": "markdown",
   "id": "6b2340b6",
   "metadata": {},
   "source": [
    "## Quality Check "
   ]
  },
  {
   "cell_type": "code",
   "execution_count": 58,
   "id": "4207c1de",
   "metadata": {},
   "outputs": [
    {
     "name": "stdout",
     "output_type": "stream",
     "text": [
      "Missing values count:\n",
      "Open            0\n",
      "High            0\n",
      "Low             0\n",
      "Close           0\n",
      "Volume          0\n",
      "Dividends       0\n",
      "Stock Splits    0\n",
      "dtype: int64\n",
      "\n",
      "After handling missing values:\n",
      "Open            0\n",
      "High            0\n",
      "Low             0\n",
      "Close           0\n",
      "Volume          0\n",
      "Dividends       0\n",
      "Stock Splits    0\n",
      "dtype: int64\n",
      "\n",
      "Data with returns column:\n",
      "                                Open       High        Low      Close  \\\n",
      "Date                                                                    \n",
      "2024-04-12 00:00:00-04:00  89.669539  90.145389  87.501253  88.157036   \n",
      "2024-04-15 00:00:00-04:00  89.068723  90.583224  85.900765  85.972740   \n",
      "2024-04-16 00:00:00-04:00  86.404604  88.089048  86.035730  87.386284   \n",
      "2024-04-17 00:00:00-04:00  88.310971  88.745833  83.922414  84.007393   \n",
      "2024-04-18 00:00:00-04:00  84.942086  86.161687  82.374929  84.643181   \n",
      "\n",
      "                              Volume  Dividends  Stock Splits   Returns  \n",
      "Date                                                                     \n",
      "2024-04-12 00:00:00-04:00  426805000        0.0           0.0 -2.681643  \n",
      "2024-04-15 00:00:00-04:00  443077000        0.0           0.0 -2.477733  \n",
      "2024-04-16 00:00:00-04:00  370453000        0.0           0.0  1.644177  \n",
      "2024-04-17 00:00:00-04:00  495400000        0.0           0.0 -3.866615  \n",
      "2024-04-18 00:00:00-04:00  447260000        0.0           0.0  0.756824  \n",
      "\n",
      "Current data shape: (250, 8)\n"
     ]
    },
    {
     "name": "stderr",
     "output_type": "stream",
     "text": [
      "C:\\Users\\10yvn\\AppData\\Local\\Temp\\ipykernel_58480\\1571792243.py:6: FutureWarning:\n",
      "\n",
      "DataFrame.fillna with 'method' is deprecated and will raise in a future version. Use obj.ffill() or obj.bfill() instead.\n",
      "\n"
     ]
    }
   ],
   "source": [
    "# Check for missing values\n",
    "print(\"Missing values count:\")\n",
    "print(data.isnull().sum())\n",
    "\n",
    "# Handle missing values if any\n",
    "data = data.fillna(method='ffill')  # Forward fill\n",
    "\n",
    "# Verify data is clean\n",
    "print(\"\\nAfter handling missing values:\")\n",
    "print(data.isnull().sum())\n",
    "\n",
    "# Create returns column (percentage change)\n",
    "data['Returns'] = data['Close'].pct_change() * 100\n",
    "\n",
    "# Only drop the first row with NaN return\n",
    "data = data.dropna(subset=['Returns'])\n",
    "\n",
    "print(\"\\nData with returns column:\")\n",
    "print(data.head())\n",
    "print(f\"\\nCurrent data shape: {data.shape}\")"
   ]
  },
  {
   "cell_type": "code",
   "execution_count": 59,
   "id": "4ecadbaa",
   "metadata": {},
   "outputs": [
    {
     "name": "stdout",
     "output_type": "stream",
     "text": [
      "Missing values count:\n",
      "Open            0\n",
      "High            0\n",
      "Low             0\n",
      "Close           0\n",
      "Volume          0\n",
      "Dividends       0\n",
      "Stock Splits    0\n",
      "Returns         0\n",
      "dtype: int64\n",
      "\n",
      "After handling missing values:\n",
      "Open            0\n",
      "High            0\n",
      "Low             0\n",
      "Close           0\n",
      "Volume          0\n",
      "Dividends       0\n",
      "Stock Splits    0\n",
      "Returns         0\n",
      "dtype: int64\n",
      "\n",
      "Data with returns column:\n",
      "                                Open       High        Low      Close  \\\n",
      "Date                                                                    \n",
      "2024-04-15 00:00:00-04:00  89.068723  90.583224  85.900765  85.972740   \n",
      "2024-04-16 00:00:00-04:00  86.404604  88.089048  86.035730  87.386284   \n",
      "2024-04-17 00:00:00-04:00  88.310971  88.745833  83.922414  84.007393   \n",
      "2024-04-18 00:00:00-04:00  84.942086  86.161687  82.374929  84.643181   \n",
      "2024-04-19 00:00:00-04:00  83.122686  84.296297  75.581166  76.174965   \n",
      "\n",
      "                              Volume  Dividends  Stock Splits    Returns  \n",
      "Date                                                                      \n",
      "2024-04-15 00:00:00-04:00  443077000        0.0           0.0  -2.477733  \n",
      "2024-04-16 00:00:00-04:00  370453000        0.0           0.0   1.644177  \n",
      "2024-04-17 00:00:00-04:00  495400000        0.0           0.0  -3.866615  \n",
      "2024-04-18 00:00:00-04:00  447260000        0.0           0.0   0.756824  \n",
      "2024-04-19 00:00:00-04:00  875198000        0.0           0.0 -10.004605  \n",
      "\n",
      "Current data shape: (249, 8)\n"
     ]
    },
    {
     "name": "stderr",
     "output_type": "stream",
     "text": [
      "C:\\Users\\10yvn\\AppData\\Local\\Temp\\ipykernel_58480\\1571792243.py:6: FutureWarning:\n",
      "\n",
      "DataFrame.fillna with 'method' is deprecated and will raise in a future version. Use obj.ffill() or obj.bfill() instead.\n",
      "\n"
     ]
    }
   ],
   "source": [
    "# Check for missing values\n",
    "print(\"Missing values count:\")\n",
    "print(data.isnull().sum())\n",
    "\n",
    "# Handle missing values if any\n",
    "data = data.fillna(method='ffill')  # Forward fill\n",
    "\n",
    "# Verify data is clean\n",
    "print(\"\\nAfter handling missing values:\")\n",
    "print(data.isnull().sum())\n",
    "\n",
    "# Create returns column (percentage change)\n",
    "data['Returns'] = data['Close'].pct_change() * 100\n",
    "\n",
    "# Only drop the first row with NaN return\n",
    "data = data.dropna(subset=['Returns'])\n",
    "\n",
    "print(\"\\nData with returns column:\")\n",
    "print(data.head())\n",
    "print(f\"\\nCurrent data shape: {data.shape}\")"
   ]
  },
  {
   "cell_type": "markdown",
   "id": "a223dca8",
   "metadata": {},
   "source": [
    "## Technical Indicators"
   ]
  },
  {
   "cell_type": "code",
   "execution_count": 60,
   "id": "1809c745",
   "metadata": {},
   "outputs": [
    {
     "name": "stdout",
     "output_type": "stream",
     "text": [
      "Calculating technical indicators...\n",
      "\n",
      "Columns after adding indicators:\n",
      "['Open', 'High', 'Low', 'Close', 'Volume', 'Dividends', 'Stock Splits', 'Returns', 'RSI_14', 'MACD_12_26_9', 'MACDh_12_26_9', 'MACDs_12_26_9', 'BBL_20_2.0', 'BBM_20_2.0', 'BBU_20_2.0', 'BBB_20_2.0', 'BBP_20_2.0', 'SMA_50', 'SMA_200', 'EMA_20', 'ATRr_14', 'OBV']\n",
      "\n",
      "Sample data with indicators:\n",
      "                                 Open        High        Low       Close  \\\n",
      "Date                                                                       \n",
      "2025-04-04 00:00:00-04:00   98.910004  100.129997  92.110001   94.309998   \n",
      "2025-04-07 00:00:00-04:00   87.459999  101.750000  86.620003   97.639999   \n",
      "2025-04-08 00:00:00-04:00  103.809998  105.849998  94.459999   96.300003   \n",
      "2025-04-09 00:00:00-04:00   98.889999  115.099998  97.529999  114.330002   \n",
      "2025-04-10 00:00:00-04:00  109.370003  110.860001  99.150002  107.570000   \n",
      "\n",
      "                              Volume  Dividends  Stock Splits    Returns  \\\n",
      "Date                                                                       \n",
      "2025-04-04 00:00:00-04:00  532273800        0.0           0.0  -7.357569   \n",
      "2025-04-07 00:00:00-04:00  611041300        0.0           0.0   3.530911   \n",
      "2025-04-08 00:00:00-04:00  476243400        0.0           0.0  -1.372385   \n",
      "2025-04-09 00:00:00-04:00  612918300        0.0           0.0  18.722740   \n",
      "2025-04-10 00:00:00-04:00  435765200        0.0           0.0  -5.912711   \n",
      "\n",
      "                              RSI_14  MACD_12_26_9  ...  BBL_20_2.0  \\\n",
      "Date                                                ...               \n",
      "2025-04-04 00:00:00-04:00  28.457036     -5.310600  ...   99.405425   \n",
      "2025-04-07 00:00:00-04:00  33.191715     -5.819092  ...   97.572606   \n",
      "2025-04-08 00:00:00-04:00  32.266341     -6.258063  ...   95.416544   \n",
      "2025-04-09 00:00:00-04:00  51.756107     -5.092378  ...   95.400719   \n",
      "2025-04-10 00:00:00-04:00  46.368888     -4.660319  ...   94.996583   \n",
      "\n",
      "                           BBM_20_2.0  BBU_20_2.0  BBB_20_2.0  BBP_20_2.0  \\\n",
      "Date                                                                        \n",
      "2025-04-04 00:00:00-04:00  112.972008  126.538590   24.017600   -0.187793   \n",
      "2025-04-07 00:00:00-04:00  112.505500  127.438393   26.546069    0.002257   \n",
      "2025-04-08 00:00:00-04:00  111.883000  128.349455   29.435134    0.026826   \n",
      "2025-04-09 00:00:00-04:00  111.812500  128.224281   29.355896    0.576698   \n",
      "2025-04-10 00:00:00-04:00  111.412000  127.827416   29.467950    0.382976   \n",
      "\n",
      "                               SMA_50     SMA_200      EMA_20   ATRr_14  \\\n",
      "Date                                                                      \n",
      "2025-04-04 00:00:00-04:00  121.297803  127.048655  112.297808  6.072231   \n",
      "2025-04-07 00:00:00-04:00  120.398466  126.859122  110.901827  6.719215   \n",
      "2025-04-08 00:00:00-04:00  119.956284  126.686883  109.511177  7.052842   \n",
      "2025-04-09 00:00:00-04:00  119.663321  126.625839  109.970112  7.891925   \n",
      "2025-04-10 00:00:00-04:00  119.340948  126.573284  109.741530  8.412501   \n",
      "\n",
      "                                    OBV  \n",
      "Date                                     \n",
      "2025-04-04 00:00:00-04:00  1.843810e+09  \n",
      "2025-04-07 00:00:00-04:00  2.454852e+09  \n",
      "2025-04-08 00:00:00-04:00  1.978608e+09  \n",
      "2025-04-09 00:00:00-04:00  2.591526e+09  \n",
      "2025-04-10 00:00:00-04:00  2.155761e+09  \n",
      "\n",
      "[5 rows x 22 columns]\n",
      "\n",
      "Missing values after adding indicators:\n",
      "481 total missing values\n",
      "\n",
      "Rows removed due to indicator calculation requirements: 199\n",
      "Final dataset shape: (50, 22)\n",
      "Data is clean with no NaN values.\n"
     ]
    },
    {
     "name": "stderr",
     "output_type": "stream",
     "text": [
      "C:\\Users\\10yvn\\AppData\\Local\\Temp\\ipykernel_58480\\2027745828.py:39: FutureWarning:\n",
      "\n",
      "DataFrame.fillna with 'method' is deprecated and will raise in a future version. Use obj.ffill() or obj.bfill() instead.\n",
      "\n"
     ]
    }
   ],
   "source": [
    "# Calculate all technical indicators before handling any more missing values\n",
    "print(\"Calculating technical indicators...\")\n",
    "\n",
    "# Calculate RSI (Relative Strength Index)\n",
    "data.ta.rsi(close='Close', length=14, append=True)\n",
    "\n",
    "# Calculate MACD (Moving Average Convergence Divergence)\n",
    "data.ta.macd(close='Close', fast=12, slow=26, signal=9, append=True)\n",
    "\n",
    "# Calculate Bollinger Bands\n",
    "data.ta.bbands(close='Close', length=20, std=2, append=True)\n",
    "\n",
    "# Calculate Simple Moving Averages\n",
    "data.ta.sma(close='Close', length=50, append=True)\n",
    "data.ta.sma(close='Close', length=200, append=True)\n",
    "\n",
    "# Calculate Exponential Moving Averages\n",
    "data.ta.ema(close='Close', length=20, append=True)\n",
    "\n",
    "# Calculate Average True Range (ATR)\n",
    "data.ta.atr(high='High', low='Low', close='Close', length=14, append=True)\n",
    "\n",
    "# Calculate On-Balance Volume (OBV)\n",
    "data.ta.obv(close='Close', volume='Volume', append=True)\n",
    "\n",
    "# Check the columns we now have\n",
    "print(\"\\nColumns after adding indicators:\")\n",
    "print(data.columns.tolist())\n",
    "\n",
    "# Display a sample of the data with indicators\n",
    "print(\"\\nSample data with indicators:\")\n",
    "print(data.tail())\n",
    "\n",
    "# Check for missing values after adding indicators\n",
    "print(\"\\nMissing values after adding indicators:\")\n",
    "print(data.isnull().sum().sum(), \"total missing values\")\n",
    "\n",
    "# Fill forward NaN values from indicators requiring lookback periods\n",
    "data = data.fillna(method='ffill')\n",
    "\n",
    "# Still need to drop initial rows where indicators couldn't be calculated\n",
    "# Keep track of the initial shape\n",
    "initial_shape = data.shape\n",
    "data = data.dropna()\n",
    "final_shape = data.shape\n",
    "\n",
    "print(f\"\\nRows removed due to indicator calculation requirements: {initial_shape[0] - final_shape[0]}\")\n",
    "print(f\"Final dataset shape: {data.shape}\")\n",
    "\n",
    "# Convert indicator columns to numeric if they aren't already\n",
    "for col in data.columns:\n",
    "    if col not in ['Dividends', 'Stock Splits']:\n",
    "        data[col] = pd.to_numeric(data[col], errors='coerce')\n",
    "\n",
    "# Final check for any remaining NaN values\n",
    "remaining_na = data.isnull().sum().sum()\n",
    "if remaining_na > 0:\n",
    "    print(f\"Warning: {remaining_na} NaN values still remain. Consider additional cleaning.\")\n",
    "else:\n",
    "    print(\"Data is clean with no NaN values.\")"
   ]
  },
  {
   "cell_type": "markdown",
   "id": "b78ebd4f",
   "metadata": {},
   "source": [
    "## Signal Generation\n"
   ]
  },
  {
   "cell_type": "code",
   "execution_count": 61,
   "id": "780caabb",
   "metadata": {},
   "outputs": [
    {
     "name": "stdout",
     "output_type": "stream",
     "text": [
      "RSI Signal Distribution:\n",
      "RSI_Signal\n",
      "HOLD    49\n",
      "BUY      1\n",
      "Name: count, dtype: int64\n",
      "\n",
      "MACD Signal Distribution:\n",
      "MACD_Signal\n",
      "SELL    29\n",
      "BUY     21\n",
      "Name: count, dtype: int64\n",
      "\n",
      "SMA Signal Distribution:\n",
      "SMA_Signal\n",
      "BUY     34\n",
      "SELL    16\n",
      "Name: count, dtype: int64\n",
      "\n",
      "Combined Signal Distribution:\n",
      "Combined_Signal\n",
      "HOLD    27\n",
      "BUY     14\n",
      "SELL     9\n",
      "Name: count, dtype: int64\n",
      "\n",
      "Sample data with signals:\n",
      "                                Close     RSI_14  MACD_12_26_9  MACDs_12_26_9  \\\n",
      "Date                                                                            \n",
      "2025-04-04 00:00:00-04:00   94.309998  28.457036     -5.310600      -3.862562   \n",
      "2025-04-07 00:00:00-04:00   97.639999  33.191715     -5.819092      -4.253868   \n",
      "2025-04-08 00:00:00-04:00   96.300003  32.266341     -6.258063      -4.654707   \n",
      "2025-04-09 00:00:00-04:00  114.330002  51.756107     -5.092378      -4.742241   \n",
      "2025-04-10 00:00:00-04:00  107.570000  46.368888     -4.660319      -4.725857   \n",
      "\n",
      "                               SMA_50     SMA_200 RSI_Signal MACD_Signal  \\\n",
      "Date                                                                       \n",
      "2025-04-04 00:00:00-04:00  121.297803  127.048655        BUY        SELL   \n",
      "2025-04-07 00:00:00-04:00  120.398466  126.859122       HOLD        SELL   \n",
      "2025-04-08 00:00:00-04:00  119.956284  126.686883       HOLD        SELL   \n",
      "2025-04-09 00:00:00-04:00  119.663321  126.625839       HOLD        SELL   \n",
      "2025-04-10 00:00:00-04:00  119.340948  126.573284       HOLD         BUY   \n",
      "\n",
      "                          SMA_Signal Combined_Signal  Signal_Target  \n",
      "Date                                                                 \n",
      "2025-04-04 00:00:00-04:00       SELL            SELL             -1  \n",
      "2025-04-07 00:00:00-04:00       SELL            SELL             -1  \n",
      "2025-04-08 00:00:00-04:00       SELL            SELL             -1  \n",
      "2025-04-09 00:00:00-04:00       SELL            SELL             -1  \n",
      "2025-04-10 00:00:00-04:00       SELL            HOLD              0  \n"
     ]
    }
   ],
   "source": [
    "# Function to generate signals based on RSI\n",
    "def generate_rsi_signal(row, buy_threshold=30, sell_threshold=70):\n",
    "    if row['RSI_14'] < buy_threshold:\n",
    "        return 'BUY'\n",
    "    elif row['RSI_14'] > sell_threshold:\n",
    "        return 'SELL'\n",
    "    else:\n",
    "        return 'HOLD'\n",
    "\n",
    "# Apply RSI signal function\n",
    "data['RSI_Signal'] = data.apply(generate_rsi_signal, axis=1)\n",
    "\n",
    "# Function to generate signals based on MACD crossover\n",
    "def generate_macd_signal(row):\n",
    "    if row['MACD_12_26_9'] > row['MACDs_12_26_9']:\n",
    "        return 'BUY'\n",
    "    elif row['MACD_12_26_9'] < row['MACDs_12_26_9']:\n",
    "        return 'SELL'\n",
    "    else:\n",
    "        return 'HOLD'\n",
    "\n",
    "# Apply MACD signal function\n",
    "data['MACD_Signal'] = data.apply(generate_macd_signal, axis=1)\n",
    "\n",
    "# Function to generate signals based on SMA crossover\n",
    "def generate_sma_signal(row):\n",
    "    if row['SMA_50'] > row['SMA_200']:  # Golden Cross\n",
    "        return 'BUY'\n",
    "    elif row['SMA_50'] < row['SMA_200']:  # Death Cross\n",
    "        return 'SELL'\n",
    "    else:\n",
    "        return 'HOLD'\n",
    "\n",
    "# Apply SMA signal function\n",
    "data['SMA_Signal'] = data.apply(generate_sma_signal, axis=1)\n",
    "\n",
    "# Function to generate combined signal (majority vote)\n",
    "def generate_combined_signal(row):\n",
    "    signals = [row['RSI_Signal'], row['MACD_Signal'], row['SMA_Signal']]\n",
    "    buy_count = signals.count('BUY')\n",
    "    sell_count = signals.count('SELL')\n",
    "    hold_count = signals.count('HOLD')\n",
    "    \n",
    "    if buy_count > sell_count and buy_count > hold_count:\n",
    "        return 'BUY'\n",
    "    elif sell_count > buy_count and sell_count > hold_count:\n",
    "        return 'SELL'\n",
    "    else:\n",
    "        return 'HOLD'\n",
    "\n",
    "# Apply combined signal function\n",
    "data['Combined_Signal'] = data.apply(generate_combined_signal, axis=1)\n",
    "\n",
    "# Display signal distribution\n",
    "print(\"RSI Signal Distribution:\")\n",
    "print(data['RSI_Signal'].value_counts())\n",
    "print(\"\\nMACD Signal Distribution:\")\n",
    "print(data['MACD_Signal'].value_counts())\n",
    "print(\"\\nSMA Signal Distribution:\")\n",
    "print(data['SMA_Signal'].value_counts())\n",
    "print(\"\\nCombined Signal Distribution:\")\n",
    "print(data['Combined_Signal'].value_counts())\n",
    "\n",
    "# Create a numerical target for ML model\n",
    "data['Signal_Target'] = data['Combined_Signal'].map({'BUY': 1, 'HOLD': 0, 'SELL': -1})\n",
    "\n",
    "print(\"\\nSample data with signals:\")\n",
    "print(data[['Close', 'RSI_14', 'MACD_12_26_9', 'MACDs_12_26_9', 'SMA_50', 'SMA_200', \n",
    "            'RSI_Signal', 'MACD_Signal', 'SMA_Signal', 'Combined_Signal', 'Signal_Target']].tail())"
   ]
  },
  {
   "cell_type": "markdown",
   "id": "b82ca6c8",
   "metadata": {},
   "source": [
    "## ML Model"
   ]
  },
  {
   "cell_type": "code",
   "execution_count": 62,
   "id": "6c86bd01",
   "metadata": {},
   "outputs": [
    {
     "name": "stdout",
     "output_type": "stream",
     "text": [
      "Data shape before feature selection: (50, 27)\n",
      "\n",
      "Data shape for modeling: (50, 14)\n",
      "Using test_size=0.30 (15 samples)\n",
      "Training set: (35, 14)\n",
      "Testing set: (15, 14)\n",
      "\n",
      "Classification Report:\n",
      "              precision    recall  f1-score   support\n",
      "\n",
      "          -1       0.00      0.00      0.00         9\n",
      "           0       0.36      0.83      0.50         6\n",
      "           1       0.00      0.00      0.00         0\n",
      "\n",
      "    accuracy                           0.33        15\n",
      "   macro avg       0.12      0.28      0.17        15\n",
      "weighted avg       0.14      0.33      0.20        15\n",
      "\n"
     ]
    },
    {
     "name": "stderr",
     "output_type": "stream",
     "text": [
      "C:\\Users\\10yvn\\AppData\\Local\\Packages\\PythonSoftwareFoundation.Python.3.11_qbz5n2kfra8p0\\LocalCache\\local-packages\\Python311\\site-packages\\sklearn\\metrics\\_classification.py:1565: UndefinedMetricWarning:\n",
      "\n",
      "Precision is ill-defined and being set to 0.0 in labels with no predicted samples. Use `zero_division` parameter to control this behavior.\n",
      "\n",
      "C:\\Users\\10yvn\\AppData\\Local\\Packages\\PythonSoftwareFoundation.Python.3.11_qbz5n2kfra8p0\\LocalCache\\local-packages\\Python311\\site-packages\\sklearn\\metrics\\_classification.py:1565: UndefinedMetricWarning:\n",
      "\n",
      "Recall is ill-defined and being set to 0.0 in labels with no true samples. Use `zero_division` parameter to control this behavior.\n",
      "\n",
      "C:\\Users\\10yvn\\AppData\\Local\\Packages\\PythonSoftwareFoundation.Python.3.11_qbz5n2kfra8p0\\LocalCache\\local-packages\\Python311\\site-packages\\sklearn\\metrics\\_classification.py:1565: UndefinedMetricWarning:\n",
      "\n",
      "Precision is ill-defined and being set to 0.0 in labels with no predicted samples. Use `zero_division` parameter to control this behavior.\n",
      "\n",
      "C:\\Users\\10yvn\\AppData\\Local\\Packages\\PythonSoftwareFoundation.Python.3.11_qbz5n2kfra8p0\\LocalCache\\local-packages\\Python311\\site-packages\\sklearn\\metrics\\_classification.py:1565: UndefinedMetricWarning:\n",
      "\n",
      "Recall is ill-defined and being set to 0.0 in labels with no true samples. Use `zero_division` parameter to control this behavior.\n",
      "\n",
      "C:\\Users\\10yvn\\AppData\\Local\\Packages\\PythonSoftwareFoundation.Python.3.11_qbz5n2kfra8p0\\LocalCache\\local-packages\\Python311\\site-packages\\sklearn\\metrics\\_classification.py:1565: UndefinedMetricWarning:\n",
      "\n",
      "Precision is ill-defined and being set to 0.0 in labels with no predicted samples. Use `zero_division` parameter to control this behavior.\n",
      "\n",
      "C:\\Users\\10yvn\\AppData\\Local\\Packages\\PythonSoftwareFoundation.Python.3.11_qbz5n2kfra8p0\\LocalCache\\local-packages\\Python311\\site-packages\\sklearn\\metrics\\_classification.py:1565: UndefinedMetricWarning:\n",
      "\n",
      "Recall is ill-defined and being set to 0.0 in labels with no true samples. Use `zero_division` parameter to control this behavior.\n",
      "\n"
     ]
    },
    {
     "data": {
      "image/png": "[encoded data removed]",
      "text/plain": [
       "<Figure size 800x600 with 2 Axes>"
      ]
     },
     "metadata": {},
     "output_type": "display_data"
    },
    {
     "name": "stdout",
     "output_type": "stream",
     "text": [
      "\n",
      "Feature Importance:\n",
      "          Feature  Importance\n",
      "3   MACDh_12_26_9    0.229809\n",
      "12        ATRr_14    0.198092\n",
      "8      BBP_20_2.0    0.110687\n",
      "0          RSI_14    0.094007\n",
      "1    MACD_12_26_9    0.068092\n",
      "9          SMA_50    0.054674\n",
      "10        SMA_200    0.043623\n",
      "11         EMA_20    0.035126\n",
      "2   MACDs_12_26_9    0.033135\n",
      "6      BBU_20_2.0    0.032647\n",
      "13            OBV    0.030705\n",
      "5      BBM_20_2.0    0.027386\n",
      "4      BBL_20_2.0    0.022500\n",
      "7      BBB_20_2.0    0.019517\n"
     ]
    },
    {
     "data": {
      "image/png": "[encoded data removed]",
      "text/plain": [
       "<Figure size 1000x600 with 1 Axes>"
      ]
     },
     "metadata": {},
     "output_type": "display_data"
    }
   ],
   "source": [
    "# Print data shape before feature selection\n",
    "print(f\"Data shape before feature selection: {data.shape}\")\n",
    "\n",
    "# Prepare features and target\n",
    "features = data[[\n",
    "    'RSI_14', 'MACD_12_26_9', 'MACDs_12_26_9', 'MACDh_12_26_9',\n",
    "    'BBL_20_2.0', 'BBM_20_2.0', 'BBU_20_2.0', 'BBB_20_2.0', 'BBP_20_2.0',\n",
    "    'SMA_50', 'SMA_200', 'EMA_20', 'ATRr_14', 'OBV'\n",
    "]]\n",
    "\n",
    "target = data['Signal_Target']\n",
    "\n",
    "print(f\"\\nData shape for modeling: {features.shape}\")\n",
    "\n",
    "# Check for any remaining NaN values\n",
    "nan_columns = features.columns[features.isnull().any()].tolist()\n",
    "if nan_columns:\n",
    "    print(f\"Warning: Found NaN values in columns: {nan_columns}\")\n",
    "    features = features.fillna(method='ffill').fillna(method='bfill')\n",
    "\n",
    "# Make sure we have enough data for splitting\n",
    "if len(features) >= 30:  # Need a reasonable minimum number of samples\n",
    "    # Determine appropriate test size - at least 10 samples, max 30% of data\n",
    "    test_samples = max(10, int(len(features) * 0.3))\n",
    "    test_size = test_samples / len(features)\n",
    "    \n",
    "    print(f\"Using test_size={test_size:.2f} ({test_samples} samples)\")\n",
    "    \n",
    "    # Split the data into training and testing sets - use time series order (no shuffle)\n",
    "    X_train, X_test, y_train, y_test = train_test_split(\n",
    "        features, target, test_size=test_size, random_state=42, \n",
    "        shuffle=False  # Keep time series order\n",
    "    )\n",
    "    \n",
    "    print(f\"Training set: {X_train.shape}\")\n",
    "    print(f\"Testing set: {X_test.shape}\")\n",
    "    \n",
    "    # Train a Random Forest Classifier\n",
    "    model = RandomForestClassifier(n_estimators=100, random_state=42)\n",
    "    model.fit(X_train, y_train)\n",
    "    \n",
    "    # Make predictions\n",
    "    y_pred = model.predict(X_test)\n",
    "    \n",
    "    # Evaluate the model\n",
    "    print(\"\\nClassification Report:\")\n",
    "    print(classification_report(y_test, y_pred))\n",
    "    \n",
    "    # Confusion Matrix\n",
    "    cm = confusion_matrix(y_test, y_pred)\n",
    "    plt.figure(figsize=(8, 6))\n",
    "    sns.heatmap(cm, annot=True, fmt='d', cmap='Blues', \n",
    "                xticklabels=['SELL (-1)', 'HOLD (0)', 'BUY (1)'], \n",
    "                yticklabels=['SELL (-1)', 'HOLD (0)', 'BUY (1)'])\n",
    "    plt.xlabel('Predicted')\n",
    "    plt.ylabel('Actual')\n",
    "    plt.title('Confusion Matrix')\n",
    "    plt.show()\n",
    "    \n",
    "    # Feature importance\n",
    "    feature_importance = pd.DataFrame({\n",
    "        'Feature': features.columns,\n",
    "        'Importance': model.feature_importances_\n",
    "    }).sort_values(by='Importance', ascending=False)\n",
    "    \n",
    "    print(\"\\nFeature Importance:\")\n",
    "    print(feature_importance)\n",
    "    \n",
    "    plt.figure(figsize=(10, 6))\n",
    "    sns.barplot(x='Importance', y='Feature', data=feature_importance)\n",
    "    plt.title('Feature Importance')\n",
    "    plt.tight_layout()\n",
    "    plt.show()\n",
    "else:\n",
    "    print(f\"ERROR: Only {len(features)} samples available after preprocessing.\")\n",
    "    print(\"This is not enough data to train a model. Here are some suggestions:\")\n",
    "    print(\"1. Use a longer time period in your data download (e.g., '10y' instead of '5y')\")\n",
    "    print(\"2. Fix the missing values earlier in the process instead of dropping rows\")\n",
    "    print(\"3. Use different indicators that require fewer lookback periods\")"
   ]
  },
  {
   "cell_type": "markdown",
   "id": "fb04dc6a",
   "metadata": {},
   "source": [
    "## Visualizer"
   ]
  },
  {
   "cell_type": "code",
   "execution_count": 69,
   "id": "7896686e",
   "metadata": {},
   "outputs": [
    {
     "data": {
      "image/png": "[encoded data removed]",
      "text/plain": [
       "<Figure size 1400x1000 with 3 Axes>"
      ]
     },
     "metadata": {},
     "output_type": "display_data"
    }
   ],
   "source": [
    "# Create a price chart with indicators - with error handling\n",
    "plt.figure(figsize=(14, 10))\n",
    "\n",
    "# Make sure all data is numeric type\n",
    "for col in ['BBL_20_2.0', 'BBU_20_2.0', 'Close', 'SMA_50', 'SMA_200', 'RSI_14', \n",
    "            'MACD_12_26_9', 'MACDs_12_26_9', 'MACDh_12_26_9']:\n",
    "    if col in data.columns:\n",
    "        data[col] = pd.to_numeric(data[col], errors='coerce')\n",
    "\n",
    "# Stock price and moving averages - subplot 1\n",
    "plt.subplot(3, 1, 1)\n",
    "plt.plot(data.index, data['Close'], label='Close Price', color='black', alpha=0.7)\n",
    "plt.plot(data.index, data['SMA_50'], label='50-Day SMA', color='blue')\n",
    "plt.plot(data.index, data['SMA_200'], label='200-Day SMA', color='red')\n",
    "\n",
    "# Safely add Bollinger Bands\n",
    "try:\n",
    "    # Convert to numpy arrays to avoid date index issues\n",
    "    x_dates = np.array(range(len(data.index)))\n",
    "    bb_lower = data['BBL_20_2.0'].values\n",
    "    bb_upper = data['BBU_20_2.0'].values\n",
    "    \n",
    "    plt.fill_between(x_dates, bb_lower, bb_upper, color='gray', alpha=0.2)\n",
    "    plt.plot(x_dates, bb_lower, '--', color='gray', alpha=0.5, label='Bollinger Bands')\n",
    "    plt.plot(x_dates, bb_upper, '--', color='gray', alpha=0.5)\n",
    "    \n",
    "    # Reset the x-ticks to show dates\n",
    "    plt.xticks(np.arange(0, len(x_dates), len(x_dates)//10), \n",
    "               [data.index[i].strftime('%Y-%m') for i in np.arange(0, len(x_dates), len(x_dates)//10)])\n",
    "except Exception as e:\n",
    "    print(f\"Warning: Could not plot Bollinger Bands - {e}\")\n",
    "    # Simple alternative\n",
    "    plt.plot(data.index, data['BBL_20_2.0'], '--', color='gray', alpha=0.5, label='Lower BB')\n",
    "    plt.plot(data.index, data['BBU_20_2.0'], '--', color='gray', alpha=0.5, label='Upper BB')\n",
    "\n",
    "plt.legend()\n",
    "plt.title(f'{ticker} Stock Price with Indicators')\n",
    "plt.grid(True, alpha=0.3)\n",
    "\n",
    "# RSI - subplot 2\n",
    "plt.subplot(3, 1, 2)\n",
    "plt.plot(data.index, data['RSI_14'], label='RSI', color='purple')\n",
    "plt.axhline(y=70, color='r', linestyle='--', alpha=0.5)\n",
    "plt.axhline(y=30, color='g', linestyle='--', alpha=0.5)\n",
    "plt.legend()\n",
    "plt.title('RSI (14)')\n",
    "plt.ylim(0, 100)\n",
    "plt.grid(True, alpha=0.3)\n",
    "\n",
    "# MACD - subplot 3\n",
    "plt.subplot(3, 1, 3)\n",
    "plt.bar(data.index, data['MACDh_12_26_9'], label='MACD Histogram', color='gray', alpha=0.7)\n",
    "plt.plot(data.index, data['MACD_12_26_9'], label='MACD', color='blue')\n",
    "plt.plot(data.index, data['MACDs_12_26_9'], label='Signal Line', color='red')\n",
    "plt.legend()\n",
    "plt.title('MACD (12, 26, 9)')\n",
    "plt.grid(True, alpha=0.3)\n",
    "\n",
    "plt.tight_layout()\n",
    "plt.show()"
   ]
  },
  {
   "cell_type": "markdown",
   "id": "a3c965ad",
   "metadata": {},
   "source": [
    "## Interactive Plot"
   ]
  },
  {
   "cell_type": "code",
   "execution_count": 64,
   "id": "10b04534",
   "metadata": {},
   "outputs": [
    {
     "data": {
      "application/vnd.plotly.v1+json": {
       "config": {
        "plotlyServerURL": "https://plot.ly"
       },
       "data": [
        {
         "close": {
          "bdata": "AAAAwN0oX0AAAAAAxgNeQAAAAMCNKV1AAAAA4OaoXUAAAACgYjRfQAAAAIBhFWBAAAAAYH86YEAAAADg2LFgQAAAAKA1mWBAAAAAIBhkYEAAAADA4ehgQAAAAKDKWmFAAAAAwGNsYUAAAABA82ZhQAAAAKAbg2FAAAAAQF3NYEAAAACgk0hgQAAAACCTp19AAAAA4JJoYEAAAACg5AheQAAAAAAlOl9AAAAAICuDXEAAAABgrf5cQAAAAICCUl1AAAAAQNSjW0AAAABAfytcQAAAACAXvlpAAAAAAAAwW0AAAAAgXO9cQAAAAMAe5VxAAAAAQOFqXkAAAACA6+FdQAAAACCF21xAAAAAoEdhXUAAAACA66FdQAAAAMDMbF1AAAAAgD1aXkAAAAAAKSxeQAAAAOCjcFxAAAAAIIXbW0AAAABA4WpbQAAAAOBRGFtAAAAAoJmJW0AAAABA4ZpbQAAAAEAzc1lAAAAAANeTV0AAAADA9WhYQAAAAEAzE1hAAAAAwB6VXEAAAADgeuRaQA==",
          "dtype": "f8"
         },
         "high": {
          "bdata": "/yL0mEM/X0BUPbXHpfVfQBtLYD/Io11A0a2JKBZMXkD39WmeQz9fQHdJoc5CGGBAdBS5uXRLYEDgBjdMmt9gQBpgJdz2zmBAd1zzi0qHYEAG5b42mQ9hQMZ21xKXZ2FAcsv6dKjtYUD9UUSlGqthQNrX+tW0lGFA+5mD1E2uYUBqMLTdeFJhQMO0p08ERmBAEy6eZ/e2YEAjypwu7N9gQKPoav4FRV9AU3FBWRLsXkCSuIM/I9NdQPl6+EU5kV1AD3j1i7jVXEDTQVtvDV5cQET+1Mi99VtAXz6pAbMOXEAAAADgozBdQAAAAOCjcF1AAAAA4FF4XkAAAADA9bheQAAAAKBHwV1AAAAAwMwcXkAAAADAzAxeQAAAACBcf11AAAAAgBSOXkAAAABgj1JeQAAAAIDCtV1AAAAAwMycXEAAAAAgrjdcQAAAAKBwvVtAAAAAwMyMW0AAAABguP5bQAAAAOBRaFpAAAAA4FEIWUAAAAAAAHBZQAAAAGBmdlpAAAAAYGbGXEAAAABACrdbQA==",
          "dtype": "f8"
         },
         "low": {
          "bdata": "d9lOX7SFXUDgF11zdctdQFUWsJ/5P1xA+PsP8BwsXUBVlzni7S9eQDosPtuzTF9AYYsBjEM/X0AoXzd4Vj5gQI7dITdBYGBAl6MbLS4iYECGSTfaDWVgQKVQNuaZ72BAbX50m1o9YUBAXpfjoiZhQDJY+Z/gGGFAM90fzZDAYEByAJBmLUJgQP+lhYxtG19A9cHvWU0PYEBarv0V7/9dQGF73jbqGF1ASNunTkIRXEB3zthbZIZbQF5FO1T3n1xAIfwFZ26NW0DLH0H6NONaQOXLhKrRXFpAfaIQw6kwWkAAAADgUThcQAAAAGCPclxAAAAAoJmJXUAAAACA64FdQAAAAGCPolxAAAAAIIXrXEAAAACAFB5dQAAAAEDh2lxAAAAAgMLVXUAAAABA4bpdQAAAAKBwLVxAAAAAgD2qW0AAAADgekRbQAAAAKCZ6VlAAAAAgBSeWkAAAABgj7JaQAAAAGBmZllAAAAAQAoHV0AAAAAgrqdVQAAAAKBwnVdAAAAAgOthWEAAAACgmclYQA==",
          "dtype": "f8"
         },
         "name": "Price",
         "open": {
          "bdata": "We8Q1qzFXkAZBUUJMfFeQLt1oCBTr1xAim/Ja8A8XUBAl2tg7G9eQIthSyYh2l9A2uek16gmYECxlCU/f0JgQG7taIorkmBAqBXn90FAYEAiDQlviHFgQAITLEn1DmFAT6FpdzmoYUCb3AHK6G9hQILfa0+MgGFAGw1QJt6AYUC8eR6lhBFhQOIIEzr6PmBABgC5OEw/YEDtJopQmt9gQL0T58WVgF1AeWOMwunfXkDTJZPr8qhbQP7Z/ZNtZF1ABlgVakBhXECsxUxrWM9bQEVARfnzeFtA8Gq+6rq+WkAAAAAgrodcQAAAAIDrQV1AAAAAQAqnXUAAAAAgXK9eQAAAAAAAgF1AAAAAoEdRXUAAAABAMyNdQAAAAAApPF1AAAAA4FH4XUAAAABAMyNeQAAAAGC4rl1AAAAAYGbWW0AAAAAgXN9bQAAAAOBRSFpAAAAAoEchW0AAAABgj9JaQAAAAOCj4FlAAAAAgD26WEAAAACgcN1VQAAAAADX81lAAAAAwPW4WEAAAAAgrldbQA==",
          "dtype": "f8"
         },
         "type": "candlestick",
         "x": [
          "2025-01-30T00:00:00-05:00",
          "2025-01-31T00:00:00-05:00",
          "2025-02-03T00:00:00-05:00",
          "2025-02-04T00:00:00-05:00",
          "2025-02-05T00:00:00-05:00",
          "2025-02-06T00:00:00-05:00",
          "2025-02-07T00:00:00-05:00",
          "2025-02-10T00:00:00-05:00",
          "2025-02-11T00:00:00-05:00",
          "2025-02-12T00:00:00-05:00",
          "2025-02-13T00:00:00-05:00",
          "2025-02-14T00:00:00-05:00",
          "2025-02-18T00:00:00-05:00",
          "2025-02-19T00:00:00-05:00",
          "2025-02-20T00:00:00-05:00",
          "2025-02-21T00:00:00-05:00",
          "2025-02-24T00:00:00-05:00",
          "2025-02-25T00:00:00-05:00",
          "2025-02-26T00:00:00-05:00",
          "2025-02-27T00:00:00-05:00",
          "2025-02-28T00:00:00-05:00",
          "2025-03-03T00:00:00-05:00",
          "2025-03-04T00:00:00-05:00",
          "2025-03-05T00:00:00-05:00",
          "2025-03-06T00:00:00-05:00",
          "2025-03-07T00:00:00-05:00",
          "2025-03-10T00:00:00-04:00",
          "2025-03-11T00:00:00-04:00",
          "2025-03-12T00:00:00-04:00",
          "2025-03-13T00:00:00-04:00",
          "2025-03-14T00:00:00-04:00",
          "2025-03-17T00:00:00-04:00",
          "2025-03-18T00:00:00-04:00",
          "2025-03-19T00:00:00-04:00",
          "2025-03-20T00:00:00-04:00",
          "2025-03-21T00:00:00-04:00",
          "2025-03-24T00:00:00-04:00",
          "2025-03-25T00:00:00-04:00",
          "2025-03-26T00:00:00-04:00",
          "2025-03-27T00:00:00-04:00",
          "2025-03-28T00:00:00-04:00",
          "2025-03-31T00:00:00-04:00",
          "2025-04-01T00:00:00-04:00",
          "2025-04-02T00:00:00-04:00",
          "2025-04-03T00:00:00-04:00",
          "2025-04-04T00:00:00-04:00",
          "2025-04-07T00:00:00-04:00",
          "2025-04-08T00:00:00-04:00",
          "2025-04-09T00:00:00-04:00",
          "2025-04-10T00:00:00-04:00"
         ],
         "xaxis": "x",
         "yaxis": "y"
        },
        {
         "line": {
          "color": "blue"
         },
         "name": "50-Day SMA",
         "type": "scatter",
         "x": [
          "2025-01-30T00:00:00-05:00",
          "2025-01-31T00:00:00-05:00",
          "2025-02-03T00:00:00-05:00",
          "2025-02-04T00:00:00-05:00",
          "2025-02-05T00:00:00-05:00",
          "2025-02-06T00:00:00-05:00",
          "2025-02-07T00:00:00-05:00",
          "2025-02-10T00:00:00-05:00",
          "2025-02-11T00:00:00-05:00",
          "2025-02-12T00:00:00-05:00",
          "2025-02-13T00:00:00-05:00",
          "2025-02-14T00:00:00-05:00",
          "2025-02-18T00:00:00-05:00",
          "2025-02-19T00:00:00-05:00",
          "2025-02-20T00:00:00-05:00",
          "2025-02-21T00:00:00-05:00",
          "2025-02-24T00:00:00-05:00",
          "2025-02-25T00:00:00-05:00",
          "2025-02-26T00:00:00-05:00",
          "2025-02-27T00:00:00-05:00",
          "2025-02-28T00:00:00-05:00",
          "2025-03-03T00:00:00-05:00",
          "2025-03-04T00:00:00-05:00",
          "2025-03-05T00:00:00-05:00",
          "2025-03-06T00:00:00-05:00",
          "2025-03-07T00:00:00-05:00",
          "2025-03-10T00:00:00-04:00",
          "2025-03-11T00:00:00-04:00",
          "2025-03-12T00:00:00-04:00",
          "2025-03-13T00:00:00-04:00",
          "2025-03-14T00:00:00-04:00",
          "2025-03-17T00:00:00-04:00",
          "2025-03-18T00:00:00-04:00",
          "2025-03-19T00:00:00-04:00",
          "2025-03-20T00:00:00-04:00",
          "2025-03-21T00:00:00-04:00",
          "2025-03-24T00:00:00-04:00",
          "2025-03-25T00:00:00-04:00",
          "2025-03-26T00:00:00-04:00",
          "2025-03-27T00:00:00-04:00",
          "2025-03-28T00:00:00-04:00",
          "2025-03-31T00:00:00-04:00",
          "2025-04-01T00:00:00-04:00",
          "2025-04-02T00:00:00-04:00",
          "2025-04-03T00:00:00-04:00",
          "2025-04-04T00:00:00-04:00",
          "2025-04-07T00:00:00-04:00",
          "2025-04-08T00:00:00-04:00",
          "2025-04-09T00:00:00-04:00",
          "2025-04-10T00:00:00-04:00"
         ],
         "xaxis": "x",
         "y": {
          "bdata": "KVyP+qc2YUBcj8ItpChhQMP1KISdGWFApHA9GnkHYUAK16OYAPpgQB+F6wl/7mBACtejuMDmYECuR+HiMOVgQBSuR3mP4mBAhetR8ODfYEC4HoWT/d1gQHE9Ci8j3mBAhetR4JfdYEBxPQpP0dlgQIXrUWCm1mBAuB6FI4bRYEDsUbi2EMxgQHsUrgeqxmBASOF6hIbBYEBmZmZehrZgQJqZmeGNsGBAzczM3BKlYEAK16PI25tgQOxRuMZtlGBApHA9Qo+HYEAUrkd5eXlgQJqZmQmOZGBArkfhGmxQYEBI4Xrs8kBgQOF6FOY9M2BA16NwBSApYEDD9SjErx9gQBSuRzENEWBAMzMzw5//X0BSuB71FthfQK5H4Qpiu19AXI/CpXajX0A9Ctdz/49fQKRwPYoXd19AcT0KxxVdX0DD9ShsFztfQPYoXC/dGl9Aj8L1eJr3XkB7FK73sdBeQClcj1LEll5AUrgeNQ9TXkBmZmZ2gBleQArXo8Az/V1Aj8L12HPqXUCPwvUY0tVdQA==",
          "dtype": "f8"
         },
         "yaxis": "y"
        },
        {
         "line": {
          "color": "red"
         },
         "name": "200-Day SMA",
         "type": "scatter",
         "x": [
          "2025-01-30T00:00:00-05:00",
          "2025-01-31T00:00:00-05:00",
          "2025-02-03T00:00:00-05:00",
          "2025-02-04T00:00:00-05:00",
          "2025-02-05T00:00:00-05:00",
          "2025-02-06T00:00:00-05:00",
          "2025-02-07T00:00:00-05:00",
          "2025-02-10T00:00:00-05:00",
          "2025-02-11T00:00:00-05:00",
          "2025-02-12T00:00:00-05:00",
          "2025-02-13T00:00:00-05:00",
          "2025-02-14T00:00:00-05:00",
          "2025-02-18T00:00:00-05:00",
          "2025-02-19T00:00:00-05:00",
          "2025-02-20T00:00:00-05:00",
          "2025-02-21T00:00:00-05:00",
          "2025-02-24T00:00:00-05:00",
          "2025-02-25T00:00:00-05:00",
          "2025-02-26T00:00:00-05:00",
          "2025-02-27T00:00:00-05:00",
          "2025-02-28T00:00:00-05:00",
          "2025-03-03T00:00:00-05:00",
          "2025-03-04T00:00:00-05:00",
          "2025-03-05T00:00:00-05:00",
          "2025-03-06T00:00:00-05:00",
          "2025-03-07T00:00:00-05:00",
          "2025-03-10T00:00:00-04:00",
          "2025-03-11T00:00:00-04:00",
          "2025-03-12T00:00:00-04:00",
          "2025-03-13T00:00:00-04:00",
          "2025-03-14T00:00:00-04:00",
          "2025-03-17T00:00:00-04:00",
          "2025-03-18T00:00:00-04:00",
          "2025-03-19T00:00:00-04:00",
          "2025-03-20T00:00:00-04:00",
          "2025-03-21T00:00:00-04:00",
          "2025-03-24T00:00:00-04:00",
          "2025-03-25T00:00:00-04:00",
          "2025-03-26T00:00:00-04:00",
          "2025-03-27T00:00:00-04:00",
          "2025-03-28T00:00:00-04:00",
          "2025-03-31T00:00:00-04:00",
          "2025-04-01T00:00:00-04:00",
          "2025-04-02T00:00:00-04:00",
          "2025-04-03T00:00:00-04:00",
          "2025-04-04T00:00:00-04:00",
          "2025-04-07T00:00:00-04:00",
          "2025-04-08T00:00:00-04:00",
          "2025-04-09T00:00:00-04:00",
          "2025-04-10T00:00:00-04:00"
         ],
         "xaxis": "x",
         "y": {
          "bdata": "rkfhkvCSXkDsUbjq2J1eQMP1KCQ2p15AuB6FK0uyXkDXo3BVJr9eQPYoXJPyz15A16NwHQ7gXkCkcD1KbfBeQBSuR0VuAV9AAAAASPUQX0AAAABULiBfQOxRuC6JMF9AmpmZDYBBX0Afhes9fFNfQFyPwi3dZF9AMzMzd3lzX0AK16Nkr39fQI/C9Tg8i19AKVyPklGYX0CuR+GWX6JfQI/C9bSXrV9A7FG4liu1X0AK16MwD71fQHE9CvtRxF9AUrgesYPJX0BI4XoE/c9fQHsUri/m019Aw/UoiC/YX0DD9Sg02d5fQEjhehih4l9AXI/COYHnX0AzMzNrUelfQOF6FBKG6V9A9ihcH8jrX0CkcD3qo+5fQNejcDGE719AcT0Ktx7xX0BmZmamkvBfQMP1KPhE7l9AhetRbEHrX0BI4XrUY+dfQAAAANBj419AmpmZcZXeX0C4HoUDdNhfQNejcIXWzl9AhetRKB3DX0AUrkfZ+7ZfQK5H4eL1q19AmpmZvQ2oX0DD9SiwsKRfQA==",
          "dtype": "f8"
         },
         "yaxis": "y"
        },
        {
         "line": {
          "color": "gray",
          "width": 0.5
         },
         "name": "Upper BB",
         "type": "scatter",
         "x": [
          "2025-01-30T00:00:00-05:00",
          "2025-01-31T00:00:00-05:00",
          "2025-02-03T00:00:00-05:00",
          "2025-02-04T00:00:00-05:00",
          "2025-02-05T00:00:00-05:00",
          "2025-02-06T00:00:00-05:00",
          "2025-02-07T00:00:00-05:00",
          "2025-02-10T00:00:00-05:00",
          "2025-02-11T00:00:00-05:00",
          "2025-02-12T00:00:00-05:00",
          "2025-02-13T00:00:00-05:00",
          "2025-02-14T00:00:00-05:00",
          "2025-02-18T00:00:00-05:00",
          "2025-02-19T00:00:00-05:00",
          "2025-02-20T00:00:00-05:00",
          "2025-02-21T00:00:00-05:00",
          "2025-02-24T00:00:00-05:00",
          "2025-02-25T00:00:00-05:00",
          "2025-02-26T00:00:00-05:00",
          "2025-02-27T00:00:00-05:00",
          "2025-02-28T00:00:00-05:00",
          "2025-03-03T00:00:00-05:00",
          "2025-03-04T00:00:00-05:00",
          "2025-03-05T00:00:00-05:00",
          "2025-03-06T00:00:00-05:00",
          "2025-03-07T00:00:00-05:00",
          "2025-03-10T00:00:00-04:00",
          "2025-03-11T00:00:00-04:00",
          "2025-03-12T00:00:00-04:00",
          "2025-03-13T00:00:00-04:00",
          "2025-03-14T00:00:00-04:00",
          "2025-03-17T00:00:00-04:00",
          "2025-03-18T00:00:00-04:00",
          "2025-03-19T00:00:00-04:00",
          "2025-03-20T00:00:00-04:00",
          "2025-03-21T00:00:00-04:00",
          "2025-03-24T00:00:00-04:00",
          "2025-03-25T00:00:00-04:00",
          "2025-03-26T00:00:00-04:00",
          "2025-03-27T00:00:00-04:00",
          "2025-03-28T00:00:00-04:00",
          "2025-03-31T00:00:00-04:00",
          "2025-04-01T00:00:00-04:00",
          "2025-04-02T00:00:00-04:00",
          "2025-04-03T00:00:00-04:00",
          "2025-04-04T00:00:00-04:00",
          "2025-04-07T00:00:00-04:00",
          "2025-04-08T00:00:00-04:00",
          "2025-04-09T00:00:00-04:00",
          "2025-04-10T00:00:00-04:00"
         ],
         "xaxis": "x",
         "y": {
          "bdata": "mZbiST0NY0Bv1TLm1CZjQBUuexkdPmNAXjvovkopY0C/hnd7Qt5iQOwMObjOwWJAUQvNICekYkAtz+Z1SZ1iQOhWAc9GnGJAEhU8oyibYkBfvPAE+ZdiQBjZhFQ+qmJAFiclqlWxYkBLwkyqy6liQE5fi1/SfmJA/agEMoI2YkBNogJE3v9hQEXAdmlZ8mFAgemtuDb2YUBbvZx2lv1hQLhJ96xm/WFAGZJsDAUVYkAAhNtzrBdiQCP3g2P8G2JANiq+Ol5EYkA4OWHi/FViQOffYZt7c2JABgmyltdwYkDMkloaulliQMLg5poMRWJAMyNL5MkbYkBI8IY1E9dhQF4j/AkihGFAzxdFNEYlYUD7JHkMt6xgQC6lhQYuVmBAy5uGaVkiYEC6sJNaxQNgQIPwGwScTl9A2wuwslI4X0DsHeXXxeFeQJ7pomOx8F5AV3MJSLfsXkD2LJw6/dxeQNRVaZRlG19A44DbQ3iiX0DTM1aiDtxfQBOttLwuC2BAFLv9Ti0HYEC2Y5Nj9PRfQA==",
          "dtype": "f8"
         },
         "yaxis": "y"
        },
        {
         "fill": "tonexty",
         "fillcolor": "rgba(200, 200, 200, 0.2)",
         "line": {
          "color": "gray",
          "width": 0.5
         },
         "name": "Lower BB",
         "type": "scatter",
         "x": [
          "2025-01-30T00:00:00-05:00",
          "2025-01-31T00:00:00-05:00",
          "2025-02-03T00:00:00-05:00",
          "2025-02-04T00:00:00-05:00",
          "2025-02-05T00:00:00-05:00",
          "2025-02-06T00:00:00-05:00",
          "2025-02-07T00:00:00-05:00",
          "2025-02-10T00:00:00-05:00",
          "2025-02-11T00:00:00-05:00",
          "2025-02-12T00:00:00-05:00",
          "2025-02-13T00:00:00-05:00",
          "2025-02-14T00:00:00-05:00",
          "2025-02-18T00:00:00-05:00",
          "2025-02-19T00:00:00-05:00",
          "2025-02-20T00:00:00-05:00",
          "2025-02-21T00:00:00-05:00",
          "2025-02-24T00:00:00-05:00",
          "2025-02-25T00:00:00-05:00",
          "2025-02-26T00:00:00-05:00",
          "2025-02-27T00:00:00-05:00",
          "2025-02-28T00:00:00-05:00",
          "2025-03-03T00:00:00-05:00",
          "2025-03-04T00:00:00-05:00",
          "2025-03-05T00:00:00-05:00",
          "2025-03-06T00:00:00-05:00",
          "2025-03-07T00:00:00-05:00",
          "2025-03-10T00:00:00-04:00",
          "2025-03-11T00:00:00-04:00",
          "2025-03-12T00:00:00-04:00",
          "2025-03-13T00:00:00-04:00",
          "2025-03-14T00:00:00-04:00",
          "2025-03-17T00:00:00-04:00",
          "2025-03-18T00:00:00-04:00",
          "2025-03-19T00:00:00-04:00",
          "2025-03-20T00:00:00-04:00",
          "2025-03-21T00:00:00-04:00",
          "2025-03-24T00:00:00-04:00",
          "2025-03-25T00:00:00-04:00",
          "2025-03-26T00:00:00-04:00",
          "2025-03-27T00:00:00-04:00",
          "2025-03-28T00:00:00-04:00",
          "2025-03-31T00:00:00-04:00",
          "2025-04-01T00:00:00-04:00",
          "2025-04-02T00:00:00-04:00",
          "2025-04-03T00:00:00-04:00",
          "2025-04-04T00:00:00-04:00",
          "2025-04-07T00:00:00-04:00",
          "2025-04-08T00:00:00-04:00",
          "2025-04-09T00:00:00-04:00",
          "2025-04-10T00:00:00-04:00"
         ],
         "xaxis": "x",
         "y": {
          "bdata": "ZWzUNWcbXkBViM0WOI1dQNajCZ0b1FxA3CLJu4RYXECD8hBZKFFcQJBM9IW5QFxAKrYy2086XEByLv+wETlcQDBS/ZFWOFxAqKJUNps2XEB2ulEZ5jZcQDm0XG0lNFxAOxgcYscwXECerpkunjVcQP3agooGX1xABa72q82dXEDPIWGOHbxcQHd/Ek2xC11AMmDXQZ4SXUAXUpP/Ju1cQI9sEeZA71xAmajzQ46ZXECYkeLR9Y9cQCJ4Xk+yflxA/RHqMK3SW0DDwHBOHElbQJimon/Ue1pAwLpoj1fiWUBo2kprd6NZQHw+MqpQaVlAmrlpd79kWUDWhVjbm3JZQKofbsIqf1lAyDbcvQWyWUA+6UB6HBlaQAkcW1kwW1pAN5W/mSiKWkAmOHK0X6FaQEncsGhB6lpA8cAc+s3IWkB6SIEO1L1aQPyv9pWfilpA3b8p60ppWkDWnzByDk1aQGDdyf6V1llAHX8kfPLZWECTMhCUpWRYQA7Zyamo2ldA14kEYqXZV0DkNQYGyL9XQA==",
          "dtype": "f8"
         },
         "yaxis": "y"
        },
        {
         "line": {
          "color": "purple"
         },
         "name": "RSI",
         "type": "scatter",
         "x": [
          "2025-01-30T00:00:00-05:00",
          "2025-01-31T00:00:00-05:00",
          "2025-02-03T00:00:00-05:00",
          "2025-02-04T00:00:00-05:00",
          "2025-02-05T00:00:00-05:00",
          "2025-02-06T00:00:00-05:00",
          "2025-02-07T00:00:00-05:00",
          "2025-02-10T00:00:00-05:00",
          "2025-02-11T00:00:00-05:00",
          "2025-02-12T00:00:00-05:00",
          "2025-02-13T00:00:00-05:00",
          "2025-02-14T00:00:00-05:00",
          "2025-02-18T00:00:00-05:00",
          "2025-02-19T00:00:00-05:00",
          "2025-02-20T00:00:00-05:00",
          "2025-02-21T00:00:00-05:00",
          "2025-02-24T00:00:00-05:00",
          "2025-02-25T00:00:00-05:00",
          "2025-02-26T00:00:00-05:00",
          "2025-02-27T00:00:00-05:00",
          "2025-02-28T00:00:00-05:00",
          "2025-03-03T00:00:00-05:00",
          "2025-03-04T00:00:00-05:00",
          "2025-03-05T00:00:00-05:00",
          "2025-03-06T00:00:00-05:00",
          "2025-03-07T00:00:00-05:00",
          "2025-03-10T00:00:00-04:00",
          "2025-03-11T00:00:00-04:00",
          "2025-03-12T00:00:00-04:00",
          "2025-03-13T00:00:00-04:00",
          "2025-03-14T00:00:00-04:00",
          "2025-03-17T00:00:00-04:00",
          "2025-03-18T00:00:00-04:00",
          "2025-03-19T00:00:00-04:00",
          "2025-03-20T00:00:00-04:00",
          "2025-03-21T00:00:00-04:00",
          "2025-03-24T00:00:00-04:00",
          "2025-03-25T00:00:00-04:00",
          "2025-03-26T00:00:00-04:00",
          "2025-03-27T00:00:00-04:00",
          "2025-03-28T00:00:00-04:00",
          "2025-03-31T00:00:00-04:00",
          "2025-04-01T00:00:00-04:00",
          "2025-04-02T00:00:00-04:00",
          "2025-04-03T00:00:00-04:00",
          "2025-04-04T00:00:00-04:00",
          "2025-04-07T00:00:00-04:00",
          "2025-04-08T00:00:00-04:00",
          "2025-04-09T00:00:00-04:00",
          "2025-04-10T00:00:00-04:00"
         ],
         "xaxis": "x2",
         "y": {
          "bdata": "BAbYZXPLREDKX6fJ92VDQFCidTE+aEJAdiyS1txjQ0BeBbvoXEZGQIErXLBw7EdApU6Y489qSECmSXCRuf1JQFpHIFDzo0lANi6pa5TcSEDhM/OgDcNKQPdaD2dgR0xAuXA4Px6DTECxkpWYG2lMQBQ0UbHD1ExAa5bYdJtkSUDncrY++jZHQNAHtn5leEVA0uyqjf4iSEClx9kaaHNDQEi0HTOH9kVAIuFg8BdHQkBgU0LaxUNDQDH/Q06/8kNA8NKsBkfDQUALgeSlAOtCQOtI5ggGI0FAAn/MXMskQkAC4NBRX8xFQLVT/tyivEVA0XAzD1SqSED5JEzSFLxHQO8eiRE6BUZAWbMAUWYWR0CLkHPFe5xHQLfIPnUjNkdAKGUp5fc6SUAbutjkz9ZIQIjw7EZIZkVAQEm9mrhgREAWDYTOrp1DQG7N2Wy8DUNATAe3OKlPREC2BQM9D4JEQNEZgNNSs0BApitIUAB1PEBYQSEgiphAQF4gaHoXIkBAdek8GcjgSUA6c/S6Ny9HQA==",
          "dtype": "f8"
         },
         "yaxis": "y2"
        },
        {
         "marker": {
          "color": "gray"
         },
         "name": "MACD Histogram",
         "type": "bar",
         "x": [
          "2025-01-30T00:00:00-05:00",
          "2025-01-31T00:00:00-05:00",
          "2025-02-03T00:00:00-05:00",
          "2025-02-04T00:00:00-05:00",
          "2025-02-05T00:00:00-05:00",
          "2025-02-06T00:00:00-05:00",
          "2025-02-07T00:00:00-05:00",
          "2025-02-10T00:00:00-05:00",
          "2025-02-11T00:00:00-05:00",
          "2025-02-12T00:00:00-05:00",
          "2025-02-13T00:00:00-05:00",
          "2025-02-14T00:00:00-05:00",
          "2025-02-18T00:00:00-05:00",
          "2025-02-19T00:00:00-05:00",
          "2025-02-20T00:00:00-05:00",
          "2025-02-21T00:00:00-05:00",
          "2025-02-24T00:00:00-05:00",
          "2025-02-25T00:00:00-05:00",
          "2025-02-26T00:00:00-05:00",
          "2025-02-27T00:00:00-05:00",
          "2025-02-28T00:00:00-05:00",
          "2025-03-03T00:00:00-05:00",
          "2025-03-04T00:00:00-05:00",
          "2025-03-05T00:00:00-05:00",
          "2025-03-06T00:00:00-05:00",
          "2025-03-07T00:00:00-05:00",
          "2025-03-10T00:00:00-04:00",
          "2025-03-11T00:00:00-04:00",
          "2025-03-12T00:00:00-04:00",
          "2025-03-13T00:00:00-04:00",
          "2025-03-14T00:00:00-04:00",
          "2025-03-17T00:00:00-04:00",
          "2025-03-18T00:00:00-04:00",
          "2025-03-19T00:00:00-04:00",
          "2025-03-20T00:00:00-04:00",
          "2025-03-21T00:00:00-04:00",
          "2025-03-24T00:00:00-04:00",
          "2025-03-25T00:00:00-04:00",
          "2025-03-26T00:00:00-04:00",
          "2025-03-27T00:00:00-04:00",
          "2025-03-28T00:00:00-04:00",
          "2025-03-31T00:00:00-04:00",
          "2025-04-01T00:00:00-04:00",
          "2025-04-02T00:00:00-04:00",
          "2025-04-03T00:00:00-04:00",
          "2025-04-04T00:00:00-04:00",
          "2025-04-07T00:00:00-04:00",
          "2025-04-08T00:00:00-04:00",
          "2025-04-09T00:00:00-04:00",
          "2025-04-10T00:00:00-04:00"
         ],
         "xaxis": "x3",
         "y": {
          "bdata": "LPpYIDfA+794U+lKKzUAwGCe53xJdALA5qUcQAe7AcA8tnOY8AH6v8T+9TK8s+y/aDjx0tuN0r9ITYUsbezXPyA+SNIFAug/hP6tQeXJ6z8C2wUe3/7yP5y/imVAMvk/F2RKZGSh/D+si1AApVn9P4pGra4DVv0/biwZXRUZ9j8XayxaYnLoPyy6oSAUJbs/cFjTL1LFi78bPe27AHzpv0gnEXak/+2/UIGPNEeg+r9zpSEPoGX+v1ylx1oonP2/2DB3MQoTAcAt81lsR1YAwPA7wzG2tgHAjL8oOLN6AMBIlwHfa/P1v3DUh3N21uq/AP6Ep4VOnr8gHBbXtKDYPyBYQZ6o3dk/EGxQixM14j/gzkwfSODnP7gIKgrRruk/GAQTE/cX8T/g/BJG06jyP9DJfVTyJug/IAL7YAOZ1T8ApQv9w56av9h5TdqBn9O/4Fe3XFzG1L8Yc7CXKGnRvzgF0tzP1Oe/fLwzcCor978w73B+KAv5v1ge3ZJYp/m/sMo4xaVo1r/AHdgtD8ewPw==",
          "dtype": "f8"
         },
         "yaxis": "y3"
        },
        {
         "line": {
          "color": "blue"
         },
         "name": "MACD",
         "type": "scatter",
         "x": [
          "2025-01-30T00:00:00-05:00",
          "2025-01-31T00:00:00-05:00",
          "2025-02-03T00:00:00-05:00",
          "2025-02-04T00:00:00-05:00",
          "2025-02-05T00:00:00-05:00",
          "2025-02-06T00:00:00-05:00",
          "2025-02-07T00:00:00-05:00",
          "2025-02-10T00:00:00-05:00",
          "2025-02-11T00:00:00-05:00",
          "2025-02-12T00:00:00-05:00",
          "2025-02-13T00:00:00-05:00",
          "2025-02-14T00:00:00-05:00",
          "2025-02-18T00:00:00-05:00",
          "2025-02-19T00:00:00-05:00",
          "2025-02-20T00:00:00-05:00",
          "2025-02-21T00:00:00-05:00",
          "2025-02-24T00:00:00-05:00",
          "2025-02-25T00:00:00-05:00",
          "2025-02-26T00:00:00-05:00",
          "2025-02-27T00:00:00-05:00",
          "2025-02-28T00:00:00-05:00",
          "2025-03-03T00:00:00-05:00",
          "2025-03-04T00:00:00-05:00",
          "2025-03-05T00:00:00-05:00",
          "2025-03-06T00:00:00-05:00",
          "2025-03-07T00:00:00-05:00",
          "2025-03-10T00:00:00-04:00",
          "2025-03-11T00:00:00-04:00",
          "2025-03-12T00:00:00-04:00",
          "2025-03-13T00:00:00-04:00",
          "2025-03-14T00:00:00-04:00",
          "2025-03-17T00:00:00-04:00",
          "2025-03-18T00:00:00-04:00",
          "2025-03-19T00:00:00-04:00",
          "2025-03-20T00:00:00-04:00",
          "2025-03-21T00:00:00-04:00",
          "2025-03-24T00:00:00-04:00",
          "2025-03-25T00:00:00-04:00",
          "2025-03-26T00:00:00-04:00",
          "2025-03-27T00:00:00-04:00",
          "2025-03-28T00:00:00-04:00",
          "2025-03-31T00:00:00-04:00",
          "2025-04-01T00:00:00-04:00",
          "2025-04-02T00:00:00-04:00",
          "2025-04-03T00:00:00-04:00",
          "2025-04-04T00:00:00-04:00",
          "2025-04-07T00:00:00-04:00",
          "2025-04-08T00:00:00-04:00",
          "2025-04-09T00:00:00-04:00",
          "2025-04-10T00:00:00-04:00"
         ],
         "xaxis": "x3",
         "y": {
          "bdata": "QGVGKQl/BcCAkL22Y+ELwIDh+iPKXhHAAPqY7Yk5E8AA0C59oXwSwEBSCL86eBDAoNVIyrCpDMCA2vVABJsGwMDwzxTwFwLAgEG3ybPS/r8A7waFD/n0vwC1Pkg88uC/ABiXnffywD8AW5qfEVrkPwA61WnofvE/ANYO336Q7z8AA5QVT+3hPwAY+ftAOrK/AOwJ+hTbyL8A3VVwWNHyvwD3Kdwe0/i/gGJq0dKNBcBAqZdAMz0LwOCdw3H8iw7AIGQagdqKEsCwAxcMQjcUwJAPBDVQHhfAUOk7H6WPGMDQCNg4XS4XwDDcJMME4xXA4EfFGxiuEsCwCFB1O6MQwJBPZJb1JxDAYKgHJQrbDcDAwhN+OPIKwMDTuTKp4wjAYHNYCWOgBMBgFxaH2oIBwMBGuG8YSwPA4ICwfez0BcBAfsjTmeoIwACC6pVIxgvAgHgdyVaRDMCAHzqV+bAMwGDZorsq+xDAoMMYAw4+FcBAH48OwEYXwPD815xBCBnAMCWJa5heFMDwX1DDKqQSwA==",
          "dtype": "f8"
         },
         "yaxis": "y3"
        },
        {
         "line": {
          "color": "red"
         },
         "name": "Signal",
         "type": "scatter",
         "x": [
          "2025-01-30T00:00:00-05:00",
          "2025-01-31T00:00:00-05:00",
          "2025-02-03T00:00:00-05:00",
          "2025-02-04T00:00:00-05:00",
          "2025-02-05T00:00:00-05:00",
          "2025-02-06T00:00:00-05:00",
          "2025-02-07T00:00:00-05:00",
          "2025-02-10T00:00:00-05:00",
          "2025-02-11T00:00:00-05:00",
          "2025-02-12T00:00:00-05:00",
          "2025-02-13T00:00:00-05:00",
          "2025-02-14T00:00:00-05:00",
          "2025-02-18T00:00:00-05:00",
          "2025-02-19T00:00:00-05:00",
          "2025-02-20T00:00:00-05:00",
          "2025-02-21T00:00:00-05:00",
          "2025-02-24T00:00:00-05:00",
          "2025-02-25T00:00:00-05:00",
          "2025-02-26T00:00:00-05:00",
          "2025-02-27T00:00:00-05:00",
          "2025-02-28T00:00:00-05:00",
          "2025-03-03T00:00:00-05:00",
          "2025-03-04T00:00:00-05:00",
          "2025-03-05T00:00:00-05:00",
          "2025-03-06T00:00:00-05:00",
          "2025-03-07T00:00:00-05:00",
          "2025-03-10T00:00:00-04:00",
          "2025-03-11T00:00:00-04:00",
          "2025-03-12T00:00:00-04:00",
          "2025-03-13T00:00:00-04:00",
          "2025-03-14T00:00:00-04:00",
          "2025-03-17T00:00:00-04:00",
          "2025-03-18T00:00:00-04:00",
          "2025-03-19T00:00:00-04:00",
          "2025-03-20T00:00:00-04:00",
          "2025-03-21T00:00:00-04:00",
          "2025-03-24T00:00:00-04:00",
          "2025-03-25T00:00:00-04:00",
          "2025-03-26T00:00:00-04:00",
          "2025-03-27T00:00:00-04:00",
          "2025-03-28T00:00:00-04:00",
          "2025-03-31T00:00:00-04:00",
          "2025-04-01T00:00:00-04:00",
          "2025-04-02T00:00:00-04:00",
          "2025-04-03T00:00:00-04:00",
          "2025-04-04T00:00:00-04:00",
          "2025-04-07T00:00:00-04:00",
          "2025-04-08T00:00:00-04:00",
          "2025-04-09T00:00:00-04:00",
          "2025-04-10T00:00:00-04:00"
         ],
         "xaxis": "x3",
         "y": {
          "bdata": "qKBnZLZ77r8QeqjXcFj3v6AkDstKSQDAGk4Vmwy4BMDixCOuSvgHwM8kU3GGwwnAk67qT/VXCsAphIbmkZgJwEgAYolxGAjAYSBHNdNbBsABZYZR9/sDwA4N1USv1QDAF4GXcAWD+r8sXoMwnCzzvxQZsIk2rue/uQVHtldD2b9coGESTRTKvxZpTY6qr8a/ebYM178ex7/K+XxJYE3Yv7jGQkKZpuO/sENFbl578L8NrQ1yxhT4v2SWv4jQe/+/aJe90KoCBMAzFNSrPBgIwDDjRDjqhQzAiokng0tSEMD+ohdBgrERwKLhs/Q1iBLA4sIdlsmPEsByasHCRi0SwBJlSCDQxRHAsuHtgyc0EcA8e/NCJXUQwO5VRHVdTw/AbPXhkl4sDcDQlR8qRNcKwDS51wTVVAnAJOHP6QyoCMD2Zs5LXLUIwMXSoFpYUgnAhI2GPYv4CcAdEUSC1IMKwHIxEYAhAQzAAqkXzobmDsB04/Lu9QMRwFq1IHhrnhLAhZg1Dw74EsBnwAcAR+cSwA==",
          "dtype": "f8"
         },
         "yaxis": "y3"
        },
        {
         "marker": {
          "color": "green",
          "size": 10,
          "symbol": "triangle-up"
         },
         "mode": "markers",
         "name": "Buy Signal",
         "type": "scatter",
         "x": [
          "2025-02-10T00:00:00-05:00",
          "2025-02-11T00:00:00-05:00",
          "2025-02-12T00:00:00-05:00",
          "2025-02-13T00:00:00-05:00",
          "2025-02-14T00:00:00-05:00",
          "2025-02-18T00:00:00-05:00",
          "2025-02-19T00:00:00-05:00",
          "2025-02-20T00:00:00-05:00",
          "2025-02-21T00:00:00-05:00",
          "2025-02-24T00:00:00-05:00",
          "2025-02-25T00:00:00-05:00",
          "2025-03-17T00:00:00-04:00",
          "2025-03-18T00:00:00-04:00",
          "2025-03-19T00:00:00-04:00"
         ],
         "xaxis": "x",
         "y": {
          "bdata": "AAAA4NixYEAAAACgNZlgQAAAACAYZGBAAAAAwOHoYEAAAACgylphQAAAAMBjbGFAAAAAQPNmYUAAAACgG4NhQAAAAEBdzWBAAAAAoJNIYEAAAAAgk6dfQAAAAIDr4V1AAAAAIIXbXEAAAACgR2FdQA==",
          "dtype": "f8"
         },
         "yaxis": "y"
        },
        {
         "marker": {
          "color": "red",
          "size": 10,
          "symbol": "triangle-down"
         },
         "mode": "markers",
         "name": "Sell Signal",
         "type": "scatter",
         "x": [
          "2025-03-28T00:00:00-04:00",
          "2025-03-31T00:00:00-04:00",
          "2025-04-01T00:00:00-04:00",
          "2025-04-02T00:00:00-04:00",
          "2025-04-03T00:00:00-04:00",
          "2025-04-04T00:00:00-04:00",
          "2025-04-07T00:00:00-04:00",
          "2025-04-08T00:00:00-04:00",
          "2025-04-09T00:00:00-04:00"
         ],
         "xaxis": "x",
         "y": {
          "bdata": "AAAAQOFqW0AAAADgURhbQAAAAKCZiVtAAAAAQOGaW0AAAABAM3NZQAAAAADXk1dAAAAAwPVoWEAAAABAMxNYQAAAAMAelVxA",
          "dtype": "f8"
         },
         "yaxis": "y"
        }
       ],
       "layout": {
        "annotations": [
         {
          "font": {
           "size": 16
          },
          "showarrow": false,
          "text": "Price & Indicators",
          "x": 0.5,
          "xanchor": "center",
          "xref": "paper",
          "y": 1,
          "yanchor": "bottom",
          "yref": "paper"
         },
         {
          "font": {
           "size": 16
          },
          "showarrow": false,
          "text": "RSI",
          "x": 0.5,
          "xanchor": "center",
          "xref": "paper",
          "y": 0.41000000000000003,
          "yanchor": "bottom",
          "yref": "paper"
         },
         {
          "font": {
           "size": 16
          },
          "showarrow": false,
          "text": "MACD",
          "x": 0.5,
          "xanchor": "center",
          "xref": "paper",
          "y": 0.18000000000000002,
          "yanchor": "bottom",
          "yref": "paper"
         }
        ],
        "height": 800,
        "shapes": [
         {
          "line": {
           "color": "red",
           "dash": "dash",
           "width": 1
          },
          "type": "line",
          "x0": "2025-01-30T00:00:00-05:00",
          "x1": "2025-04-10T00:00:00-04:00",
          "xref": "x2",
          "y0": 70,
          "y1": 70,
          "yref": "y2"
         },
         {
          "line": {
           "color": "green",
           "dash": "dash",
           "width": 1
          },
          "type": "line",
          "x0": "2025-01-30T00:00:00-05:00",
          "x1": "2025-04-10T00:00:00-04:00",
          "xref": "x2",
          "y0": 30,
          "y1": 30,
          "yref": "y2"
         }
        ],
        "showlegend": false,
        "template": {
         "data": {
          "bar": [
           {
            "error_x": {
             "color": "#2a3f5f"
            },
            "error_y": {
             "color": "#2a3f5f"
            },
            "marker": {
             "line": {
              "color": "#E5ECF6",
              "width": 0.5
             },
             "pattern": {
              "fillmode": "overlay",
              "size": 10,
              "solidity": 0.2
             }
            },
            "type": "bar"
           }
          ],
          "barpolar": [
           {
            "marker": {
             "line": {
              "color": "#E5ECF6",
              "width": 0.5
             },
             "pattern": {
              "fillmode": "overlay",
              "size": 10,
              "solidity": 0.2
             }
            },
            "type": "barpolar"
           }
          ],
          "carpet": [
           {
            "aaxis": {
             "endlinecolor": "#2a3f5f",
             "gridcolor": "white",
             "linecolor": "white",
             "minorgridcolor": "white",
             "startlinecolor": "#2a3f5f"
            },
            "baxis": {
             "endlinecolor": "#2a3f5f",
             "gridcolor": "white",
             "linecolor": "white",
             "minorgridcolor": "white",
             "startlinecolor": "#2a3f5f"
            },
            "type": "carpet"
           }
          ],
          "choropleth": [
           {
            "colorbar": {
             "outlinewidth": 0,
             "ticks": ""
            },
            "type": "choropleth"
           }
          ],
          "contour": [
           {
            "colorbar": {
             "outlinewidth": 0,
             "ticks": ""
            },
            "colorscale": [
             [
              0,
              "#0d0887"
             ],
             [
              0.1111111111111111,
              "#46039f"
             ],
             [
              0.2222222222222222,
              "#7201a8"
             ],
             [
              0.3333333333333333,
              "#9c179e"
             ],
             [
              0.4444444444444444,
              "#bd3786"
             ],
             [
              0.5555555555555556,
              "#d8576b"
             ],
             [
              0.6666666666666666,
              "#ed7953"
             ],
             [
              0.7777777777777778,
              "#fb9f3a"
             ],
             [
              0.8888888888888888,
              "#fdca26"
             ],
             [
              1,
              "#f0f921"
             ]
            ],
            "type": "contour"
           }
          ],
          "contourcarpet": [
           {
            "colorbar": {
             "outlinewidth": 0,
             "ticks": ""
            },
            "type": "contourcarpet"
           }
          ],
          "heatmap": [
           {
            "colorbar": {
             "outlinewidth": 0,
             "ticks": ""
            },
            "colorscale": [
             [
              0,
              "#0d0887"
             ],
             [
              0.1111111111111111,
              "#46039f"
             ],
             [
              0.2222222222222222,
              "#7201a8"
             ],
             [
              0.3333333333333333,
              "#9c179e"
             ],
             [
              0.4444444444444444,
              "#bd3786"
             ],
             [
              0.5555555555555556,
              "#d8576b"
             ],
             [
              0.6666666666666666,
              "#ed7953"
             ],
             [
              0.7777777777777778,
              "#fb9f3a"
             ],
             [
              0.8888888888888888,
              "#fdca26"
             ],
             [
              1,
              "#f0f921"
             ]
            ],
            "type": "heatmap"
           }
          ],
          "histogram": [
           {
            "marker": {
             "pattern": {
              "fillmode": "overlay",
              "size": 10,
              "solidity": 0.2
             }
            },
            "type": "histogram"
           }
          ],
          "histogram2d": [
           {
            "colorbar": {
             "outlinewidth": 0,
             "ticks": ""
            },
            "colorscale": [
             [
              0,
              "#0d0887"
             ],
             [
              0.1111111111111111,
              "#46039f"
             ],
             [
              0.2222222222222222,
              "#7201a8"
             ],
             [
              0.3333333333333333,
              "#9c179e"
             ],
             [
              0.4444444444444444,
              "#bd3786"
             ],
             [
              0.5555555555555556,
              "#d8576b"
             ],
             [
              0.6666666666666666,
              "#ed7953"
             ],
             [
              0.7777777777777778,
              "#fb9f3a"
             ],
             [
              0.8888888888888888,
              "#fdca26"
             ],
             [
              1,
              "#f0f921"
             ]
            ],
            "type": "histogram2d"
           }
          ],
          "histogram2dcontour": [
           {
            "colorbar": {
             "outlinewidth": 0,
             "ticks": ""
            },
            "colorscale": [
             [
              0,
              "#0d0887"
             ],
             [
              0.1111111111111111,
              "#46039f"
             ],
             [
              0.2222222222222222,
              "#7201a8"
             ],
             [
              0.3333333333333333,
              "#9c179e"
             ],
             [
              0.4444444444444444,
              "#bd3786"
             ],
             [
              0.5555555555555556,
              "#d8576b"
             ],
             [
              0.6666666666666666,
              "#ed7953"
             ],
             [
              0.7777777777777778,
              "#fb9f3a"
             ],
             [
              0.8888888888888888,
              "#fdca26"
             ],
             [
              1,
              "#f0f921"
             ]
            ],
            "type": "histogram2dcontour"
           }
          ],
          "mesh3d": [
           {
            "colorbar": {
             "outlinewidth": 0,
             "ticks": ""
            },
            "type": "mesh3d"
           }
          ],
          "parcoords": [
           {
            "line": {
             "colorbar": {
              "outlinewidth": 0,
              "ticks": ""
             }
            },
            "type": "parcoords"
           }
          ],
          "pie": [
           {
            "automargin": true,
            "type": "pie"
           }
          ],
          "scatter": [
           {
            "fillpattern": {
             "fillmode": "overlay",
             "size": 10,
             "solidity": 0.2
            },
            "type": "scatter"
           }
          ],
          "scatter3d": [
           {
            "line": {
             "colorbar": {
              "outlinewidth": 0,
              "ticks": ""
             }
            },
            "marker": {
             "colorbar": {
              "outlinewidth": 0,
              "ticks": ""
             }
            },
            "type": "scatter3d"
           }
          ],
          "scattercarpet": [
           {
            "marker": {
             "colorbar": {
              "outlinewidth": 0,
              "ticks": ""
             }
            },
            "type": "scattercarpet"
           }
          ],
          "scattergeo": [
           {
            "marker": {
             "colorbar": {
              "outlinewidth": 0,
              "ticks": ""
             }
            },
            "type": "scattergeo"
           }
          ],
          "scattergl": [
           {
            "marker": {
             "colorbar": {
              "outlinewidth": 0,
              "ticks": ""
             }
            },
            "type": "scattergl"
           }
          ],
          "scattermap": [
           {
            "marker": {
             "colorbar": {
              "outlinewidth": 0,
              "ticks": ""
             }
            },
            "type": "scattermap"
           }
          ],
          "scattermapbox": [
           {
            "marker": {
             "colorbar": {
              "outlinewidth": 0,
              "ticks": ""
             }
            },
            "type": "scattermapbox"
           }
          ],
          "scatterpolar": [
           {
            "marker": {
             "colorbar": {
              "outlinewidth": 0,
              "ticks": ""
             }
            },
            "type": "scatterpolar"
           }
          ],
          "scatterpolargl": [
           {
            "marker": {
             "colorbar": {
              "outlinewidth": 0,
              "ticks": ""
             }
            },
            "type": "scatterpolargl"
           }
          ],
          "scatterternary": [
           {
            "marker": {
             "colorbar": {
              "outlinewidth": 0,
              "ticks": ""
             }
            },
            "type": "scatterternary"
           }
          ],
          "surface": [
           {
            "colorbar": {
             "outlinewidth": 0,
             "ticks": ""
            },
            "colorscale": [
             [
              0,
              "#0d0887"
             ],
             [
              0.1111111111111111,
              "#46039f"
             ],
             [
              0.2222222222222222,
              "#7201a8"
             ],
             [
              0.3333333333333333,
              "#9c179e"
             ],
             [
              0.4444444444444444,
              "#bd3786"
             ],
             [
              0.5555555555555556,
              "#d8576b"
             ],
             [
              0.6666666666666666,
              "#ed7953"
             ],
             [
              0.7777777777777778,
              "#fb9f3a"
             ],
             [
              0.8888888888888888,
              "#fdca26"
             ],
             [
              1,
              "#f0f921"
             ]
            ],
            "type": "surface"
           }
          ],
          "table": [
           {
            "cells": {
             "fill": {
              "color": "#EBF0F8"
             },
             "line": {
              "color": "white"
             }
            },
            "header": {
             "fill": {
              "color": "#C8D4E3"
             },
             "line": {
              "color": "white"
             }
            },
            "type": "table"
           }
          ]
         },
         "layout": {
          "annotationdefaults": {
           "arrowcolor": "#2a3f5f",
           "arrowhead": 0,
           "arrowwidth": 1
          },
          "autotypenumbers": "strict",
          "coloraxis": {
           "colorbar": {
            "outlinewidth": 0,
            "ticks": ""
           }
          },
          "colorscale": {
           "diverging": [
            [
             0,
             "#8e0152"
            ],
            [
             0.1,
             "#c51b7d"
            ],
            [
             0.2,
             "#de77ae"
            ],
            [
             0.3,
             "#f1b6da"
            ],
            [
             0.4,
             "#fde0ef"
            ],
            [
             0.5,
             "#f7f7f7"
            ],
            [
             0.6,
             "#e6f5d0"
            ],
            [
             0.7,
             "#b8e186"
            ],
            [
             0.8,
             "#7fbc41"
            ],
            [
             0.9,
             "#4d9221"
            ],
            [
             1,
             "#276419"
            ]
           ],
           "sequential": [
            [
             0,
             "#0d0887"
            ],
            [
             0.1111111111111111,
             "#46039f"
            ],
            [
             0.2222222222222222,
             "#7201a8"
            ],
            [
             0.3333333333333333,
             "#9c179e"
            ],
            [
             0.4444444444444444,
             "#bd3786"
            ],
            [
             0.5555555555555556,
             "#d8576b"
            ],
            [
             0.6666666666666666,
             "#ed7953"
            ],
            [
             0.7777777777777778,
             "#fb9f3a"
            ],
            [
             0.8888888888888888,
             "#fdca26"
            ],
            [
             1,
             "#f0f921"
            ]
           ],
           "sequentialminus": [
            [
             0,
             "#0d0887"
            ],
            [
             0.1111111111111111,
             "#46039f"
            ],
            [
             0.2222222222222222,
             "#7201a8"
            ],
            [
             0.3333333333333333,
             "#9c179e"
            ],
            [
             0.4444444444444444,
             "#bd3786"
            ],
            [
             0.5555555555555556,
             "#d8576b"
            ],
            [
             0.6666666666666666,
             "#ed7953"
            ],
            [
             0.7777777777777778,
             "#fb9f3a"
            ],
            [
             0.8888888888888888,
             "#fdca26"
            ],
            [
             1,
             "#f0f921"
            ]
           ]
          },
          "colorway": [
           "#636efa",
           "#EF553B",
           "#00cc96",
           "#ab63fa",
           "#FFA15A",
           "#19d3f3",
           "#FF6692",
           "#B6E880",
           "#FF97FF",
           "#FECB52"
          ],
          "font": {
           "color": "#2a3f5f"
          },
          "geo": {
           "bgcolor": "white",
           "lakecolor": "white",
           "landcolor": "#E5ECF6",
           "showlakes": true,
           "showland": true,
           "subunitcolor": "white"
          },
          "hoverlabel": {
           "align": "left"
          },
          "hovermode": "closest",
          "mapbox": {
           "style": "light"
          },
          "paper_bgcolor": "white",
          "plot_bgcolor": "#E5ECF6",
          "polar": {
           "angularaxis": {
            "gridcolor": "white",
            "linecolor": "white",
            "ticks": ""
           },
           "bgcolor": "#E5ECF6",
           "radialaxis": {
            "gridcolor": "white",
            "linecolor": "white",
            "ticks": ""
           }
          },
          "scene": {
           "xaxis": {
            "backgroundcolor": "#E5ECF6",
            "gridcolor": "white",
            "gridwidth": 2,
            "linecolor": "white",
            "showbackground": true,
            "ticks": "",
            "zerolinecolor": "white"
           },
           "yaxis": {
            "backgroundcolor": "#E5ECF6",
            "gridcolor": "white",
            "gridwidth": 2,
            "linecolor": "white",
            "showbackground": true,
            "ticks": "",
            "zerolinecolor": "white"
           },
           "zaxis": {
            "backgroundcolor": "#E5ECF6",
            "gridcolor": "white",
            "gridwidth": 2,
            "linecolor": "white",
            "showbackground": true,
            "ticks": "",
            "zerolinecolor": "white"
           }
          },
          "shapedefaults": {
           "line": {
            "color": "#2a3f5f"
           }
          },
          "ternary": {
           "aaxis": {
            "gridcolor": "white",
            "linecolor": "white",
            "ticks": ""
           },
           "baxis": {
            "gridcolor": "white",
            "linecolor": "white",
            "ticks": ""
           },
           "bgcolor": "#E5ECF6",
           "caxis": {
            "gridcolor": "white",
            "linecolor": "white",
            "ticks": ""
           }
          },
          "title": {
           "x": 0.05
          },
          "xaxis": {
           "automargin": true,
           "gridcolor": "white",
           "linecolor": "white",
           "ticks": "",
           "title": {
            "standoff": 15
           },
           "zerolinecolor": "white",
           "zerolinewidth": 2
          },
          "yaxis": {
           "automargin": true,
           "gridcolor": "white",
           "linecolor": "white",
           "ticks": "",
           "title": {
            "standoff": 15
           },
           "zerolinecolor": "white",
           "zerolinewidth": 2
          }
         }
        },
        "title": {
         "text": "NVDA Technical Analysis"
        },
        "width": 1200,
        "xaxis": {
         "anchor": "y",
         "domain": [
          0,
          1
         ],
         "matches": "x3",
         "rangeslider": {
          "visible": false
         },
         "showticklabels": false
        },
        "xaxis2": {
         "anchor": "y2",
         "domain": [
          0,
          1
         ],
         "matches": "x3",
         "showticklabels": false
        },
        "xaxis3": {
         "anchor": "y3",
         "domain": [
          0,
          1
         ]
        },
        "yaxis": {
         "anchor": "x",
         "domain": [
          0.4600000000000001,
          1
         ],
         "title": {
          "text": "Price ($)"
         }
        },
        "yaxis2": {
         "anchor": "x2",
         "domain": [
          0.23000000000000004,
          0.41000000000000003
         ],
         "title": {
          "text": "RSI"
         }
        },
        "yaxis3": {
         "anchor": "x3",
         "domain": [
          0,
          0.18000000000000002
         ],
         "title": {
          "text": "MACD"
         }
        }
       }
      }
     },
     "metadata": {},
     "output_type": "display_data"
    }
   ],
   "source": [
    "# Create an interactive chart with Plotly\n",
    "fig = make_subplots(rows=3, cols=1, shared_xaxes=True, \n",
    "                    vertical_spacing=0.05, \n",
    "                    subplot_titles=('Price & Indicators', 'RSI', 'MACD'),\n",
    "                    row_heights=[0.6, 0.2, 0.2])\n",
    "\n",
    "# Add price chart\n",
    "fig.add_trace(\n",
    "    go.Candlestick(x=data.index, open=data['Open'], high=data['High'], \n",
    "                   low=data['Low'], close=data['Close'], name='Price'),\n",
    "    row=1, col=1\n",
    ")\n",
    "\n",
    "# Add moving averages\n",
    "fig.add_trace(go.Scatter(x=data.index, y=data['SMA_50'], name='50-Day SMA', line=dict(color='blue')), row=1, col=1)\n",
    "fig.add_trace(go.Scatter(x=data.index, y=data['SMA_200'], name='200-Day SMA', line=dict(color='red')), row=1, col=1)\n",
    "\n",
    "# Add Bollinger Bands\n",
    "fig.add_trace(go.Scatter(x=data.index, y=data['BBU_20_2.0'], name='Upper BB', \n",
    "                        line=dict(color='gray', width=0.5)), row=1, col=1)\n",
    "fig.add_trace(go.Scatter(x=data.index, y=data['BBL_20_2.0'], name='Lower BB', \n",
    "                        line=dict(color='gray', width=0.5), \n",
    "                        fill='tonexty', fillcolor='rgba(200, 200, 200, 0.2)'), row=1, col=1)\n",
    "\n",
    "# Add RSI\n",
    "fig.add_trace(go.Scatter(x=data.index, y=data['RSI_14'], name='RSI', line=dict(color='purple')), row=2, col=1)\n",
    "fig.add_shape(type=\"line\", x0=data.index[0], x1=data.index[-1], y0=70, y1=70,\n",
    "              line=dict(color=\"red\", width=1, dash=\"dash\"), row=2, col=1)\n",
    "fig.add_shape(type=\"line\", x0=data.index[0], x1=data.index[-1], y0=30, y1=30,\n",
    "              line=dict(color=\"green\", width=1, dash=\"dash\"), row=2, col=1)\n",
    "\n",
    "# Add MACD\n",
    "fig.add_trace(go.Bar(x=data.index, y=data['MACDh_12_26_9'], name='MACD Histogram', marker_color='gray'), row=3, col=1)\n",
    "fig.add_trace(go.Scatter(x=data.index, y=data['MACD_12_26_9'], name='MACD', line=dict(color='blue')), row=3, col=1)\n",
    "fig.add_trace(go.Scatter(x=data.index, y=data['MACDs_12_26_9'], name='Signal', line=dict(color='red')), row=3, col=1)\n",
    "\n",
    "# Add buy/sell markers\n",
    "buy_signals = data[data['Combined_Signal'] == 'BUY']\n",
    "sell_signals = data[data['Combined_Signal'] == 'SELL']\n",
    "\n",
    "fig.add_trace(go.Scatter(\n",
    "    x=buy_signals.index, \n",
    "    y=buy_signals['Close'], \n",
    "    mode='markers',\n",
    "    marker=dict(symbol='triangle-up', size=10, color='green'),\n",
    "    name='Buy Signal'\n",
    "), row=1, col=1)\n",
    "\n",
    "fig.add_trace(go.Scatter(\n",
    "    x=sell_signals.index, \n",
    "    y=sell_signals['Close'], \n",
    "    mode='markers',\n",
    "    marker=dict(symbol='triangle-down', size=10, color='red'),\n",
    "    name='Sell Signal'\n",
    "), row=1, col=1)\n",
    "\n",
    "# Update layout\n",
    "fig.update_layout(\n",
    "    title=f'{ticker} Technical Analysis',\n",
    "    height=800,\n",
    "    width=1200,\n",
    "    showlegend=False\n",
    ")\n",
    "\n",
    "# Disable rangeslider on price chart\n",
    "fig.update_xaxes(rangeslider_visible=False, row=1, col=1)\n",
    "\n",
    "# Add axis labels\n",
    "fig.update_yaxes(title_text=\"Price ($)\", row=1, col=1)\n",
    "fig.update_yaxes(title_text=\"RSI\", row=2, col=1)\n",
    "fig.update_yaxes(title_text=\"MACD\", row=3, col=1)\n",
    "\n",
    "# Show the figure\n",
    "fig.show()"
   ]
  },
  {
   "cell_type": "markdown",
   "id": "360317df",
   "metadata": {},
   "source": [
    "## Backtesting"
   ]
  },
  {
   "cell_type": "code",
   "execution_count": 65,
   "id": "0a32a2e4",
   "metadata": {},
   "outputs": [
    {
     "data": {
      "image/png": "[encoded data removed]",
      "text/plain": [
       "<Figure size 1400x700 with 1 Axes>"
      ]
     },
     "metadata": {},
     "output_type": "display_data"
    },
    {
     "name": "stdout",
     "output_type": "stream",
     "text": [
      "Strategy Performance Summary (NVDA):\n",
      "Total trading days: 49\n",
      "Strategy return: -20.57%\n",
      "Buy and hold return: -13.69%\n",
      "Strategy outperformance: -6.88%\n",
      "Sharpe ratio: -1.31\n"
     ]
    }
   ],
   "source": [
    "# Simple backtest of combined signal strategy\n",
    "data['Position'] = 0  # 0: no position, 1: long, -1: short\n",
    "position = 0\n",
    "positions = []\n",
    "\n",
    "for i in range(len(data)):\n",
    "    if data['Combined_Signal'].iloc[i] == 'BUY' and position <= 0:\n",
    "        position = 1  # Enter long position\n",
    "    elif data['Combined_Signal'].iloc[i] == 'SELL' and position >= 0:\n",
    "        position = -1  # Enter short position\n",
    "    # In all other cases, maintain current position\n",
    "    positions.append(position)\n",
    "\n",
    "data['Position'] = positions\n",
    "\n",
    "# Calculate strategy returns\n",
    "data['Strategy_Returns'] = data['Position'].shift(1) * data['Returns']\n",
    "data.dropna(subset=['Strategy_Returns'], inplace=True)\n",
    "\n",
    "# Calculate cumulative returns\n",
    "data['Cumulative_Returns'] = (1 + data['Returns'] / 100).cumprod()\n",
    "data['Cumulative_Strategy_Returns'] = (1 + data['Strategy_Returns'] / 100).cumprod()\n",
    "\n",
    "# Plot the results\n",
    "plt.figure(figsize=(14, 7))\n",
    "plt.plot(data.index, data['Cumulative_Returns'], label='Buy and Hold', color='blue')\n",
    "plt.plot(data.index, data['Cumulative_Strategy_Returns'], label='Trading Strategy', color='green')\n",
    "plt.title(f'{ticker} Trading Strategy Backtest')\n",
    "plt.xlabel('Date')\n",
    "plt.ylabel('Cumulative Returns')\n",
    "plt.legend()\n",
    "plt.grid(True, alpha=0.3)\n",
    "plt.show()\n",
    "\n",
    "# Performance metrics\n",
    "total_days = len(data)\n",
    "strategy_return = (data['Cumulative_Strategy_Returns'].iloc[-1] - 1) * 100\n",
    "buy_hold_return = (data['Cumulative_Returns'].iloc[-1] - 1) * 100\n",
    "sharpe_ratio = data['Strategy_Returns'].mean() / data['Strategy_Returns'].std() * np.sqrt(252)  # Annualized\n",
    "\n",
    "print(f\"Strategy Performance Summary ({ticker}):\")\n",
    "print(f\"Total trading days: {total_days}\")\n",
    "print(f\"Strategy return: {strategy_return:.2f}%\")\n",
    "print(f\"Buy and hold return: {buy_hold_return:.2f}%\")\n",
    "print(f\"Strategy outperformance: {strategy_return - buy_hold_return:.2f}%\")\n",
    "print(f\"Sharpe ratio: {sharpe_ratio:.2f}\")"
   ]
  },
  {
   "cell_type": "code",
   "execution_count": null,
   "id": "e742c271",
   "metadata": {},
   "outputs": [],
   "source": []
  }
 ],
 "metadata": {
  "kernelspec": {
   "display_name": "Python 3",
   "language": "python",
   "name": "python3"
  },
  "language_info": {
   "codemirror_mode": {
    "name": "ipython",
    "version": 3
   },
   "file_extension": ".py",
   "mimetype": "text/x-python",
   "name": "python",
   "nbconvert_exporter": "python",
   "pygments_lexer": "ipython3",
   "version": "3.11.9"
  }
 },
 "nbformat": 4,
 "nbformat_minor": 5
}
